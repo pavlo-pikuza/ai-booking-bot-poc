{
 "cells": [
  {
   "cell_type": "code",
   "execution_count": 148,
   "metadata": {},
   "outputs": [
    {
     "data": {
      "text/html": [
       "<div>\n",
       "<style scoped>\n",
       "    .dataframe tbody tr th:only-of-type {\n",
       "        vertical-align: middle;\n",
       "    }\n",
       "\n",
       "    .dataframe tbody tr th {\n",
       "        vertical-align: top;\n",
       "    }\n",
       "\n",
       "    .dataframe thead th {\n",
       "        text-align: right;\n",
       "    }\n",
       "</style>\n",
       "<table border=\"1\" class=\"dataframe\">\n",
       "  <thead>\n",
       "    <tr style=\"text-align: right;\">\n",
       "      <th></th>\n",
       "      <th>client_id</th>\n",
       "      <th>client_name</th>\n",
       "      <th>duration</th>\n",
       "      <th>id</th>\n",
       "      <th>service_id</th>\n",
       "      <th>service_name</th>\n",
       "      <th>start_time</th>\n",
       "    </tr>\n",
       "  </thead>\n",
       "  <tbody>\n",
       "    <tr>\n",
       "      <th>0</th>\n",
       "      <td>1</td>\n",
       "      <td>Alice</td>\n",
       "      <td>40</td>\n",
       "      <td>1</td>\n",
       "      <td>2</td>\n",
       "      <td>Pedicure</td>\n",
       "      <td>2025-03-06 09:00</td>\n",
       "    </tr>\n",
       "    <tr>\n",
       "      <th>1</th>\n",
       "      <td>3</td>\n",
       "      <td>Charlie</td>\n",
       "      <td>30</td>\n",
       "      <td>2</td>\n",
       "      <td>3</td>\n",
       "      <td>Haircut</td>\n",
       "      <td>2025-03-06 09:50</td>\n",
       "    </tr>\n",
       "    <tr>\n",
       "      <th>2</th>\n",
       "      <td>1</td>\n",
       "      <td>Alice</td>\n",
       "      <td>40</td>\n",
       "      <td>3</td>\n",
       "      <td>2</td>\n",
       "      <td>Pedicure</td>\n",
       "      <td>2025-03-06 10:30</td>\n",
       "    </tr>\n",
       "    <tr>\n",
       "      <th>3</th>\n",
       "      <td>2</td>\n",
       "      <td>Bob</td>\n",
       "      <td>30</td>\n",
       "      <td>4</td>\n",
       "      <td>3</td>\n",
       "      <td>Haircut</td>\n",
       "      <td>2025-03-06 11:20</td>\n",
       "    </tr>\n",
       "    <tr>\n",
       "      <th>4</th>\n",
       "      <td>1</td>\n",
       "      <td>Alice</td>\n",
       "      <td>40</td>\n",
       "      <td>5</td>\n",
       "      <td>2</td>\n",
       "      <td>Pedicure</td>\n",
       "      <td>2025-03-06 12:00</td>\n",
       "    </tr>\n",
       "    <tr>\n",
       "      <th>5</th>\n",
       "      <td>3</td>\n",
       "      <td>Charlie</td>\n",
       "      <td>40</td>\n",
       "      <td>6</td>\n",
       "      <td>2</td>\n",
       "      <td>Pedicure</td>\n",
       "      <td>2025-03-06 12:50</td>\n",
       "    </tr>\n",
       "    <tr>\n",
       "      <th>6</th>\n",
       "      <td>3</td>\n",
       "      <td>Charlie</td>\n",
       "      <td>40</td>\n",
       "      <td>7</td>\n",
       "      <td>2</td>\n",
       "      <td>Pedicure</td>\n",
       "      <td>2025-03-06 13:40</td>\n",
       "    </tr>\n",
       "    <tr>\n",
       "      <th>7</th>\n",
       "      <td>3</td>\n",
       "      <td>Charlie</td>\n",
       "      <td>35</td>\n",
       "      <td>8</td>\n",
       "      <td>1</td>\n",
       "      <td>Manicure</td>\n",
       "      <td>2025-03-06 14:30</td>\n",
       "    </tr>\n",
       "    <tr>\n",
       "      <th>8</th>\n",
       "      <td>2</td>\n",
       "      <td>Bob</td>\n",
       "      <td>30</td>\n",
       "      <td>9</td>\n",
       "      <td>3</td>\n",
       "      <td>Haircut</td>\n",
       "      <td>2025-03-06 15:15</td>\n",
       "    </tr>\n",
       "    <tr>\n",
       "      <th>9</th>\n",
       "      <td>2</td>\n",
       "      <td>Bob</td>\n",
       "      <td>30</td>\n",
       "      <td>10</td>\n",
       "      <td>3</td>\n",
       "      <td>Haircut</td>\n",
       "      <td>2025-03-06 15:55</td>\n",
       "    </tr>\n",
       "    <tr>\n",
       "      <th>10</th>\n",
       "      <td>1</td>\n",
       "      <td>Alice</td>\n",
       "      <td>30</td>\n",
       "      <td>11</td>\n",
       "      <td>3</td>\n",
       "      <td>Haircut</td>\n",
       "      <td>2025-03-07 09:00</td>\n",
       "    </tr>\n",
       "    <tr>\n",
       "      <th>11</th>\n",
       "      <td>2</td>\n",
       "      <td>Bob</td>\n",
       "      <td>40</td>\n",
       "      <td>12</td>\n",
       "      <td>2</td>\n",
       "      <td>Pedicure</td>\n",
       "      <td>2025-03-07 09:40</td>\n",
       "    </tr>\n",
       "    <tr>\n",
       "      <th>12</th>\n",
       "      <td>1</td>\n",
       "      <td>Alice</td>\n",
       "      <td>35</td>\n",
       "      <td>13</td>\n",
       "      <td>1</td>\n",
       "      <td>Manicure</td>\n",
       "      <td>2025-03-07 10:30</td>\n",
       "    </tr>\n",
       "    <tr>\n",
       "      <th>13</th>\n",
       "      <td>3</td>\n",
       "      <td>Charlie</td>\n",
       "      <td>40</td>\n",
       "      <td>14</td>\n",
       "      <td>2</td>\n",
       "      <td>Pedicure</td>\n",
       "      <td>2025-03-07 11:15</td>\n",
       "    </tr>\n",
       "    <tr>\n",
       "      <th>14</th>\n",
       "      <td>3</td>\n",
       "      <td>Charlie</td>\n",
       "      <td>40</td>\n",
       "      <td>15</td>\n",
       "      <td>2</td>\n",
       "      <td>Pedicure</td>\n",
       "      <td>2025-03-07 12:05</td>\n",
       "    </tr>\n",
       "    <tr>\n",
       "      <th>15</th>\n",
       "      <td>3</td>\n",
       "      <td>Charlie</td>\n",
       "      <td>30</td>\n",
       "      <td>16</td>\n",
       "      <td>3</td>\n",
       "      <td>Haircut</td>\n",
       "      <td>2025-03-07 12:55</td>\n",
       "    </tr>\n",
       "    <tr>\n",
       "      <th>16</th>\n",
       "      <td>1</td>\n",
       "      <td>Alice</td>\n",
       "      <td>35</td>\n",
       "      <td>17</td>\n",
       "      <td>1</td>\n",
       "      <td>Manicure</td>\n",
       "      <td>2025-03-07 13:35</td>\n",
       "    </tr>\n",
       "    <tr>\n",
       "      <th>17</th>\n",
       "      <td>3</td>\n",
       "      <td>Charlie</td>\n",
       "      <td>40</td>\n",
       "      <td>18</td>\n",
       "      <td>2</td>\n",
       "      <td>Pedicure</td>\n",
       "      <td>2025-03-07 14:20</td>\n",
       "    </tr>\n",
       "    <tr>\n",
       "      <th>18</th>\n",
       "      <td>2</td>\n",
       "      <td>Bob</td>\n",
       "      <td>35</td>\n",
       "      <td>19</td>\n",
       "      <td>1</td>\n",
       "      <td>Manicure</td>\n",
       "      <td>2025-03-07 15:10</td>\n",
       "    </tr>\n",
       "    <tr>\n",
       "      <th>19</th>\n",
       "      <td>3</td>\n",
       "      <td>Charlie</td>\n",
       "      <td>30</td>\n",
       "      <td>20</td>\n",
       "      <td>3</td>\n",
       "      <td>Haircut</td>\n",
       "      <td>2025-03-07 15:55</td>\n",
       "    </tr>\n",
       "    <tr>\n",
       "      <th>20</th>\n",
       "      <td>3</td>\n",
       "      <td>Charlie</td>\n",
       "      <td>40</td>\n",
       "      <td>21</td>\n",
       "      <td>2</td>\n",
       "      <td>Pedicure</td>\n",
       "      <td>2025-03-08 09:00</td>\n",
       "    </tr>\n",
       "    <tr>\n",
       "      <th>21</th>\n",
       "      <td>2</td>\n",
       "      <td>Bob</td>\n",
       "      <td>30</td>\n",
       "      <td>22</td>\n",
       "      <td>3</td>\n",
       "      <td>Haircut</td>\n",
       "      <td>2025-03-08 09:50</td>\n",
       "    </tr>\n",
       "    <tr>\n",
       "      <th>22</th>\n",
       "      <td>2</td>\n",
       "      <td>Bob</td>\n",
       "      <td>40</td>\n",
       "      <td>23</td>\n",
       "      <td>2</td>\n",
       "      <td>Pedicure</td>\n",
       "      <td>2025-03-08 10:30</td>\n",
       "    </tr>\n",
       "    <tr>\n",
       "      <th>23</th>\n",
       "      <td>2</td>\n",
       "      <td>Bob</td>\n",
       "      <td>30</td>\n",
       "      <td>24</td>\n",
       "      <td>3</td>\n",
       "      <td>Haircut</td>\n",
       "      <td>2025-03-08 11:20</td>\n",
       "    </tr>\n",
       "    <tr>\n",
       "      <th>24</th>\n",
       "      <td>2</td>\n",
       "      <td>Bob</td>\n",
       "      <td>35</td>\n",
       "      <td>25</td>\n",
       "      <td>1</td>\n",
       "      <td>Manicure</td>\n",
       "      <td>2025-03-08 12:00</td>\n",
       "    </tr>\n",
       "    <tr>\n",
       "      <th>25</th>\n",
       "      <td>1</td>\n",
       "      <td>Alice</td>\n",
       "      <td>40</td>\n",
       "      <td>26</td>\n",
       "      <td>2</td>\n",
       "      <td>Pedicure</td>\n",
       "      <td>2025-03-08 12:45</td>\n",
       "    </tr>\n",
       "    <tr>\n",
       "      <th>26</th>\n",
       "      <td>1</td>\n",
       "      <td>Alice</td>\n",
       "      <td>35</td>\n",
       "      <td>27</td>\n",
       "      <td>1</td>\n",
       "      <td>Manicure</td>\n",
       "      <td>2025-03-08 13:35</td>\n",
       "    </tr>\n",
       "    <tr>\n",
       "      <th>27</th>\n",
       "      <td>3</td>\n",
       "      <td>Charlie</td>\n",
       "      <td>35</td>\n",
       "      <td>28</td>\n",
       "      <td>1</td>\n",
       "      <td>Manicure</td>\n",
       "      <td>2025-03-08 14:20</td>\n",
       "    </tr>\n",
       "    <tr>\n",
       "      <th>28</th>\n",
       "      <td>1</td>\n",
       "      <td>Alice</td>\n",
       "      <td>35</td>\n",
       "      <td>29</td>\n",
       "      <td>1</td>\n",
       "      <td>Manicure</td>\n",
       "      <td>2025-03-08 15:05</td>\n",
       "    </tr>\n",
       "    <tr>\n",
       "      <th>29</th>\n",
       "      <td>2</td>\n",
       "      <td>Bob</td>\n",
       "      <td>30</td>\n",
       "      <td>30</td>\n",
       "      <td>3</td>\n",
       "      <td>Haircut</td>\n",
       "      <td>2025-03-08 15:50</td>\n",
       "    </tr>\n",
       "    <tr>\n",
       "      <th>30</th>\n",
       "      <td>1</td>\n",
       "      <td>Alice</td>\n",
       "      <td>40</td>\n",
       "      <td>31</td>\n",
       "      <td>2</td>\n",
       "      <td>Pedicure</td>\n",
       "      <td>2025-03-09 09:00</td>\n",
       "    </tr>\n",
       "    <tr>\n",
       "      <th>31</th>\n",
       "      <td>3</td>\n",
       "      <td>Charlie</td>\n",
       "      <td>40</td>\n",
       "      <td>32</td>\n",
       "      <td>2</td>\n",
       "      <td>Pedicure</td>\n",
       "      <td>2025-03-09 09:50</td>\n",
       "    </tr>\n",
       "    <tr>\n",
       "      <th>32</th>\n",
       "      <td>3</td>\n",
       "      <td>Charlie</td>\n",
       "      <td>30</td>\n",
       "      <td>33</td>\n",
       "      <td>3</td>\n",
       "      <td>Haircut</td>\n",
       "      <td>2025-03-09 10:40</td>\n",
       "    </tr>\n",
       "    <tr>\n",
       "      <th>33</th>\n",
       "      <td>1</td>\n",
       "      <td>Alice</td>\n",
       "      <td>40</td>\n",
       "      <td>34</td>\n",
       "      <td>2</td>\n",
       "      <td>Pedicure</td>\n",
       "      <td>2025-03-09 11:20</td>\n",
       "    </tr>\n",
       "    <tr>\n",
       "      <th>34</th>\n",
       "      <td>3</td>\n",
       "      <td>Charlie</td>\n",
       "      <td>30</td>\n",
       "      <td>35</td>\n",
       "      <td>3</td>\n",
       "      <td>Haircut</td>\n",
       "      <td>2025-03-09 12:10</td>\n",
       "    </tr>\n",
       "    <tr>\n",
       "      <th>35</th>\n",
       "      <td>3</td>\n",
       "      <td>Charlie</td>\n",
       "      <td>40</td>\n",
       "      <td>36</td>\n",
       "      <td>2</td>\n",
       "      <td>Pedicure</td>\n",
       "      <td>2025-03-09 12:50</td>\n",
       "    </tr>\n",
       "    <tr>\n",
       "      <th>36</th>\n",
       "      <td>2</td>\n",
       "      <td>Bob</td>\n",
       "      <td>35</td>\n",
       "      <td>37</td>\n",
       "      <td>1</td>\n",
       "      <td>Manicure</td>\n",
       "      <td>2025-03-09 13:40</td>\n",
       "    </tr>\n",
       "    <tr>\n",
       "      <th>37</th>\n",
       "      <td>2</td>\n",
       "      <td>Bob</td>\n",
       "      <td>40</td>\n",
       "      <td>38</td>\n",
       "      <td>2</td>\n",
       "      <td>Pedicure</td>\n",
       "      <td>2025-03-09 14:25</td>\n",
       "    </tr>\n",
       "    <tr>\n",
       "      <th>38</th>\n",
       "      <td>3</td>\n",
       "      <td>Charlie</td>\n",
       "      <td>40</td>\n",
       "      <td>39</td>\n",
       "      <td>2</td>\n",
       "      <td>Pedicure</td>\n",
       "      <td>2025-03-09 15:15</td>\n",
       "    </tr>\n",
       "    <tr>\n",
       "      <th>39</th>\n",
       "      <td>1</td>\n",
       "      <td>Alice</td>\n",
       "      <td>35</td>\n",
       "      <td>40</td>\n",
       "      <td>1</td>\n",
       "      <td>Manicure</td>\n",
       "      <td>2025-03-10 09:00</td>\n",
       "    </tr>\n",
       "    <tr>\n",
       "      <th>40</th>\n",
       "      <td>2</td>\n",
       "      <td>Bob</td>\n",
       "      <td>40</td>\n",
       "      <td>41</td>\n",
       "      <td>2</td>\n",
       "      <td>Pedicure</td>\n",
       "      <td>2025-03-10 09:45</td>\n",
       "    </tr>\n",
       "    <tr>\n",
       "      <th>41</th>\n",
       "      <td>1</td>\n",
       "      <td>Alice</td>\n",
       "      <td>35</td>\n",
       "      <td>42</td>\n",
       "      <td>1</td>\n",
       "      <td>Manicure</td>\n",
       "      <td>2025-03-10 10:35</td>\n",
       "    </tr>\n",
       "    <tr>\n",
       "      <th>42</th>\n",
       "      <td>1</td>\n",
       "      <td>Alice</td>\n",
       "      <td>40</td>\n",
       "      <td>43</td>\n",
       "      <td>2</td>\n",
       "      <td>Pedicure</td>\n",
       "      <td>2025-03-10 11:20</td>\n",
       "    </tr>\n",
       "    <tr>\n",
       "      <th>43</th>\n",
       "      <td>2</td>\n",
       "      <td>Bob</td>\n",
       "      <td>40</td>\n",
       "      <td>44</td>\n",
       "      <td>2</td>\n",
       "      <td>Pedicure</td>\n",
       "      <td>2025-03-10 12:10</td>\n",
       "    </tr>\n",
       "    <tr>\n",
       "      <th>44</th>\n",
       "      <td>1</td>\n",
       "      <td>Alice</td>\n",
       "      <td>30</td>\n",
       "      <td>45</td>\n",
       "      <td>3</td>\n",
       "      <td>Haircut</td>\n",
       "      <td>2025-03-10 13:00</td>\n",
       "    </tr>\n",
       "    <tr>\n",
       "      <th>45</th>\n",
       "      <td>2</td>\n",
       "      <td>Bob</td>\n",
       "      <td>30</td>\n",
       "      <td>46</td>\n",
       "      <td>3</td>\n",
       "      <td>Haircut</td>\n",
       "      <td>2025-03-10 13:40</td>\n",
       "    </tr>\n",
       "    <tr>\n",
       "      <th>46</th>\n",
       "      <td>1</td>\n",
       "      <td>Alice</td>\n",
       "      <td>40</td>\n",
       "      <td>47</td>\n",
       "      <td>2</td>\n",
       "      <td>Pedicure</td>\n",
       "      <td>2025-03-10 14:20</td>\n",
       "    </tr>\n",
       "    <tr>\n",
       "      <th>47</th>\n",
       "      <td>3</td>\n",
       "      <td>Charlie</td>\n",
       "      <td>30</td>\n",
       "      <td>48</td>\n",
       "      <td>3</td>\n",
       "      <td>Haircut</td>\n",
       "      <td>2025-03-10 15:10</td>\n",
       "    </tr>\n",
       "    <tr>\n",
       "      <th>48</th>\n",
       "      <td>3</td>\n",
       "      <td>Charlie</td>\n",
       "      <td>30</td>\n",
       "      <td>49</td>\n",
       "      <td>3</td>\n",
       "      <td>Haircut</td>\n",
       "      <td>2025-03-10 15:50</td>\n",
       "    </tr>\n",
       "  </tbody>\n",
       "</table>\n",
       "</div>"
      ],
      "text/plain": [
       "    client_id client_name  duration  id  service_id service_name  \\\n",
       "0           1       Alice        40   1           2     Pedicure   \n",
       "1           3     Charlie        30   2           3      Haircut   \n",
       "2           1       Alice        40   3           2     Pedicure   \n",
       "3           2         Bob        30   4           3      Haircut   \n",
       "4           1       Alice        40   5           2     Pedicure   \n",
       "5           3     Charlie        40   6           2     Pedicure   \n",
       "6           3     Charlie        40   7           2     Pedicure   \n",
       "7           3     Charlie        35   8           1     Manicure   \n",
       "8           2         Bob        30   9           3      Haircut   \n",
       "9           2         Bob        30  10           3      Haircut   \n",
       "10          1       Alice        30  11           3      Haircut   \n",
       "11          2         Bob        40  12           2     Pedicure   \n",
       "12          1       Alice        35  13           1     Manicure   \n",
       "13          3     Charlie        40  14           2     Pedicure   \n",
       "14          3     Charlie        40  15           2     Pedicure   \n",
       "15          3     Charlie        30  16           3      Haircut   \n",
       "16          1       Alice        35  17           1     Manicure   \n",
       "17          3     Charlie        40  18           2     Pedicure   \n",
       "18          2         Bob        35  19           1     Manicure   \n",
       "19          3     Charlie        30  20           3      Haircut   \n",
       "20          3     Charlie        40  21           2     Pedicure   \n",
       "21          2         Bob        30  22           3      Haircut   \n",
       "22          2         Bob        40  23           2     Pedicure   \n",
       "23          2         Bob        30  24           3      Haircut   \n",
       "24          2         Bob        35  25           1     Manicure   \n",
       "25          1       Alice        40  26           2     Pedicure   \n",
       "26          1       Alice        35  27           1     Manicure   \n",
       "27          3     Charlie        35  28           1     Manicure   \n",
       "28          1       Alice        35  29           1     Manicure   \n",
       "29          2         Bob        30  30           3      Haircut   \n",
       "30          1       Alice        40  31           2     Pedicure   \n",
       "31          3     Charlie        40  32           2     Pedicure   \n",
       "32          3     Charlie        30  33           3      Haircut   \n",
       "33          1       Alice        40  34           2     Pedicure   \n",
       "34          3     Charlie        30  35           3      Haircut   \n",
       "35          3     Charlie        40  36           2     Pedicure   \n",
       "36          2         Bob        35  37           1     Manicure   \n",
       "37          2         Bob        40  38           2     Pedicure   \n",
       "38          3     Charlie        40  39           2     Pedicure   \n",
       "39          1       Alice        35  40           1     Manicure   \n",
       "40          2         Bob        40  41           2     Pedicure   \n",
       "41          1       Alice        35  42           1     Manicure   \n",
       "42          1       Alice        40  43           2     Pedicure   \n",
       "43          2         Bob        40  44           2     Pedicure   \n",
       "44          1       Alice        30  45           3      Haircut   \n",
       "45          2         Bob        30  46           3      Haircut   \n",
       "46          1       Alice        40  47           2     Pedicure   \n",
       "47          3     Charlie        30  48           3      Haircut   \n",
       "48          3     Charlie        30  49           3      Haircut   \n",
       "\n",
       "          start_time  \n",
       "0   2025-03-06 09:00  \n",
       "1   2025-03-06 09:50  \n",
       "2   2025-03-06 10:30  \n",
       "3   2025-03-06 11:20  \n",
       "4   2025-03-06 12:00  \n",
       "5   2025-03-06 12:50  \n",
       "6   2025-03-06 13:40  \n",
       "7   2025-03-06 14:30  \n",
       "8   2025-03-06 15:15  \n",
       "9   2025-03-06 15:55  \n",
       "10  2025-03-07 09:00  \n",
       "11  2025-03-07 09:40  \n",
       "12  2025-03-07 10:30  \n",
       "13  2025-03-07 11:15  \n",
       "14  2025-03-07 12:05  \n",
       "15  2025-03-07 12:55  \n",
       "16  2025-03-07 13:35  \n",
       "17  2025-03-07 14:20  \n",
       "18  2025-03-07 15:10  \n",
       "19  2025-03-07 15:55  \n",
       "20  2025-03-08 09:00  \n",
       "21  2025-03-08 09:50  \n",
       "22  2025-03-08 10:30  \n",
       "23  2025-03-08 11:20  \n",
       "24  2025-03-08 12:00  \n",
       "25  2025-03-08 12:45  \n",
       "26  2025-03-08 13:35  \n",
       "27  2025-03-08 14:20  \n",
       "28  2025-03-08 15:05  \n",
       "29  2025-03-08 15:50  \n",
       "30  2025-03-09 09:00  \n",
       "31  2025-03-09 09:50  \n",
       "32  2025-03-09 10:40  \n",
       "33  2025-03-09 11:20  \n",
       "34  2025-03-09 12:10  \n",
       "35  2025-03-09 12:50  \n",
       "36  2025-03-09 13:40  \n",
       "37  2025-03-09 14:25  \n",
       "38  2025-03-09 15:15  \n",
       "39  2025-03-10 09:00  \n",
       "40  2025-03-10 09:45  \n",
       "41  2025-03-10 10:35  \n",
       "42  2025-03-10 11:20  \n",
       "43  2025-03-10 12:10  \n",
       "44  2025-03-10 13:00  \n",
       "45  2025-03-10 13:40  \n",
       "46  2025-03-10 14:20  \n",
       "47  2025-03-10 15:10  \n",
       "48  2025-03-10 15:50  "
      ]
     },
     "execution_count": 148,
     "metadata": {},
     "output_type": "execute_result"
    }
   ],
   "source": [
    "# Открываем файл и загружаем данные\n",
    "with open(f\"C:\\\\Users\\\\pavlo\\\\Downloads\\\\appointments.json\", \"r\", encoding=\"utf-8\") as file:\n",
    "    data = json.load(file)\n",
    "\n",
    "appointments_df = pd.DataFrame(data)\n",
    "appointments_df"
   ]
  },
  {
   "cell_type": "code",
   "execution_count": 8,
   "metadata": {},
   "outputs": [
    {
     "data": {
      "text/plain": [
       "datetime.datetime(2025, 4, 1, 16, 15)"
      ]
     },
     "execution_count": 8,
     "metadata": {},
     "output_type": "execute_result"
    }
   ],
   "source": [
    "from datetime import datetime, time\n",
    "time_obj = datetime.strptime(\"16:15\",\"%H:%M\").time()\n",
    "datetime.combine(datetime.today().date(), time_obj)"
   ]
  },
  {
   "cell_type": "code",
   "execution_count": 149,
   "metadata": {},
   "outputs": [],
   "source": [
    "WORK_HOURS_START = 9\n",
    "WORK_HOURS_END = 16\n",
    "BREAK_TIME = 10\n",
    "APPOINTMENTS_COUNT = 20\n",
    "WORK_DAYS = ['Monday','Tuesday','Wednesday','Thirsday','Friday']\n",
    "services = {'Pedicure':40,'Haircut':45,'Manicure':50}\n",
    "clients = ['Alice','Bob','Charlie']"
   ]
  },
  {
   "cell_type": "code",
   "execution_count": 1,
   "metadata": {},
   "outputs": [],
   "source": [
    "import plotly.graph_objects as go\n",
    "import pandas as pd\n",
    "import json\n",
    "from datetime import timedelta, datetime\n",
    "import random\n",
    "import bisect\n",
    "\n",
    "def appoinments_gen(count, clients, services, work_days, work_hour_start, work_hour_end, break_time):\n",
    "\n",
    "    appointments = []\n",
    "    res = []\n",
    "\n",
    "    print(\"📌 Generating non-overlapping appointments...\")\n",
    "\n",
    "    while len(appointments) < count:\n",
    "        client = random.choice(clients)\n",
    "        service = random.choice(list(services.keys()))\n",
    "        duration = services[service]\n",
    "        day = random.choice(work_days)\n",
    "        hour = random.randint(work_hour_start, work_hour_end - 1)\n",
    "        minute = random.choice([0, 0, 0, 10, 20, 30, 30, 40, 50])\n",
    "\n",
    "        start_time = datetime.strptime('1970-01-05', \"%Y-%m-%d\").replace(hour=hour, minute=minute, second=0)\n",
    "        end_time = start_time + timedelta(minutes=duration)\n",
    "\n",
    "        overlap = any(\n",
    "            (appo['day'] == day) and (\n",
    "                (start_time >= appo['start_time'] and start_time < appo['end_time'] + timedelta(minutes = break_time)) or\n",
    "                (end_time > appo['start_time'] - timedelta(minutes = break_time) and end_time <= appo['end_time'])\n",
    "            )\n",
    "            for appo in appointments\n",
    "        )\n",
    "\n",
    "        is_late = True if end_time > datetime.strptime('1970-01-05', \"%Y-%m-%d\").replace(hour=16, minute=0, second=0) else False\n",
    "\n",
    "        duplicate = any(\n",
    "            (appo['day'] == day and appo['client_id'] == client and appo['service_id'] == service)\n",
    "            for appo in appointments\n",
    "        )\n",
    "\n",
    "        todays_appos = sorted(\n",
    "            [appo for appo in appointments if appo[\"day\"] == day],\n",
    "            key=lambda x: x[\"start_time\"]\n",
    "        )\n",
    "\n",
    "        prev_appo = None\n",
    "        next_appo = None\n",
    "\n",
    "        if todays_appos:\n",
    "            start_times = [appo[\"start_time\"] for appo in todays_appos]\n",
    "\n",
    "            idx = bisect.bisect_right(start_times, start_time)\n",
    "\n",
    "            if idx > 0:\n",
    "                prev_appo = todays_appos[idx - 1]\n",
    "\n",
    "            if idx < len(todays_appos):\n",
    "                next_appo = todays_appos[idx]\n",
    "        \n",
    "        long_waiting = False\n",
    "        if prev_appo is not None:\n",
    "            if prev_appo['client_id'] == client and (start_time - prev_appo['end_time']).total_seconds() > break_time * 60:\n",
    "                long_waiting = True\n",
    "\n",
    "        if next_appo is not None:\n",
    "            if next_appo['client_id'] == client and (next_appo['start_time'] - end_time).total_seconds() > break_time * 60:\n",
    "                long_waiting = True \n",
    "\n",
    "        if not overlap and not duplicate and not is_late and not long_waiting:\n",
    "            appointments.append({\n",
    "                'day': day,\n",
    "                'start_time': start_time,\n",
    "                'end_time': end_time,\n",
    "                'service_id': service,\n",
    "                'duration': duration,\n",
    "                'client_id': client\n",
    "            })\n",
    "\n",
    "            res.append({\n",
    "                'client_id': client,\n",
    "                'service_id': service,\n",
    "                'start_time': start_time,\n",
    "                'day': day\n",
    "            })\n",
    "\n",
    "    return res, appointments\n"
   ]
  },
  {
   "cell_type": "code",
   "execution_count": 2,
   "metadata": {},
   "outputs": [
    {
     "name": "stdout",
     "output_type": "stream",
     "text": [
      "📌 Generating non-overlapping appointments...\n"
     ]
    },
    {
     "data": {
      "text/html": [
       "<div>\n",
       "<style scoped>\n",
       "    .dataframe tbody tr th:only-of-type {\n",
       "        vertical-align: middle;\n",
       "    }\n",
       "\n",
       "    .dataframe tbody tr th {\n",
       "        vertical-align: top;\n",
       "    }\n",
       "\n",
       "    .dataframe thead th {\n",
       "        text-align: right;\n",
       "    }\n",
       "</style>\n",
       "<table border=\"1\" class=\"dataframe\">\n",
       "  <thead>\n",
       "    <tr style=\"text-align: right;\">\n",
       "      <th></th>\n",
       "      <th>day</th>\n",
       "      <th>start_time</th>\n",
       "      <th>end_time</th>\n",
       "      <th>service_id</th>\n",
       "      <th>duration</th>\n",
       "      <th>client_id</th>\n",
       "    </tr>\n",
       "  </thead>\n",
       "  <tbody>\n",
       "    <tr>\n",
       "      <th>0</th>\n",
       "      <td>Wednesday</td>\n",
       "      <td>1970-01-05 11:10:00</td>\n",
       "      <td>1970-01-05 11:55:00</td>\n",
       "      <td>Manicure</td>\n",
       "      <td>45</td>\n",
       "      <td>Alice</td>\n",
       "    </tr>\n",
       "    <tr>\n",
       "      <th>1</th>\n",
       "      <td>Friday</td>\n",
       "      <td>1970-01-05 11:30:00</td>\n",
       "      <td>1970-01-05 12:15:00</td>\n",
       "      <td>Manicure</td>\n",
       "      <td>45</td>\n",
       "      <td>Bob</td>\n",
       "    </tr>\n",
       "    <tr>\n",
       "      <th>2</th>\n",
       "      <td>Thursday</td>\n",
       "      <td>1970-01-05 14:20:00</td>\n",
       "      <td>1970-01-05 15:05:00</td>\n",
       "      <td>Manicure</td>\n",
       "      <td>45</td>\n",
       "      <td>Alice</td>\n",
       "    </tr>\n",
       "  </tbody>\n",
       "</table>\n",
       "</div>"
      ],
      "text/plain": [
       "         day          start_time            end_time service_id  duration  \\\n",
       "0  Wednesday 1970-01-05 11:10:00 1970-01-05 11:55:00   Manicure        45   \n",
       "1     Friday 1970-01-05 11:30:00 1970-01-05 12:15:00   Manicure        45   \n",
       "2   Thursday 1970-01-05 14:20:00 1970-01-05 15:05:00   Manicure        45   \n",
       "\n",
       "  client_id  \n",
       "0     Alice  \n",
       "1       Bob  \n",
       "2     Alice  "
      ]
     },
     "execution_count": 2,
     "metadata": {},
     "output_type": "execute_result"
    }
   ],
   "source": [
    "WORK_HOURS_START = 9\n",
    "WORK_HOURS_END = 16\n",
    "BREAK_TIME = 10\n",
    "APPOINTMENTS_COUNT = 25\n",
    "WORK_DAYS = ['Monday', 'Tuesday', 'Wednesday', 'Thursday', 'Friday']\n",
    "services = {'Pedicure': 35, 'Haircut': 40, 'Manicure': 45}\n",
    "clients = ['Alice', 'Bob', 'Charlie']\n",
    "\n",
    "res, appointments = appoinments_gen(APPOINTMENTS_COUNT, clients, services, WORK_DAYS, WORK_HOURS_START, WORK_HOURS_END, BREAK_TIME)\n",
    "pd.DataFrame(appointments).head(3)"
   ]
  },
  {
   "cell_type": "code",
   "execution_count": 51,
   "metadata": {},
   "outputs": [
    {
     "data": {
      "text/html": [
       "<div>\n",
       "<style scoped>\n",
       "    .dataframe tbody tr th:only-of-type {\n",
       "        vertical-align: middle;\n",
       "    }\n",
       "\n",
       "    .dataframe tbody tr th {\n",
       "        vertical-align: top;\n",
       "    }\n",
       "\n",
       "    .dataframe thead th {\n",
       "        text-align: right;\n",
       "    }\n",
       "</style>\n",
       "<table border=\"1\" class=\"dataframe\">\n",
       "  <thead>\n",
       "    <tr style=\"text-align: right;\">\n",
       "      <th></th>\n",
       "      <th>day</th>\n",
       "      <th>start_time</th>\n",
       "      <th>end_time</th>\n",
       "      <th>service_id</th>\n",
       "      <th>duration</th>\n",
       "      <th>client_id</th>\n",
       "      <th>day_order</th>\n",
       "    </tr>\n",
       "  </thead>\n",
       "  <tbody>\n",
       "    <tr>\n",
       "      <th>0</th>\n",
       "      <td>Monday</td>\n",
       "      <td>1970-01-05 09:30:00</td>\n",
       "      <td>1970-01-05 10:05:00</td>\n",
       "      <td>Pedicure</td>\n",
       "      <td>35</td>\n",
       "      <td>Alice</td>\n",
       "      <td>0</td>\n",
       "    </tr>\n",
       "    <tr>\n",
       "      <th>1</th>\n",
       "      <td>Monday</td>\n",
       "      <td>1970-01-05 11:30:00</td>\n",
       "      <td>1970-01-05 12:05:00</td>\n",
       "      <td>Pedicure</td>\n",
       "      <td>35</td>\n",
       "      <td>Charlie</td>\n",
       "      <td>0</td>\n",
       "    </tr>\n",
       "    <tr>\n",
       "      <th>2</th>\n",
       "      <td>Monday</td>\n",
       "      <td>1970-01-05 12:30:00</td>\n",
       "      <td>1970-01-05 13:10:00</td>\n",
       "      <td>Haircut</td>\n",
       "      <td>40</td>\n",
       "      <td>Alice</td>\n",
       "      <td>0</td>\n",
       "    </tr>\n",
       "    <tr>\n",
       "      <th>3</th>\n",
       "      <td>Monday</td>\n",
       "      <td>1970-01-05 13:30:00</td>\n",
       "      <td>1970-01-05 14:10:00</td>\n",
       "      <td>Haircut</td>\n",
       "      <td>40</td>\n",
       "      <td>Charlie</td>\n",
       "      <td>0</td>\n",
       "    </tr>\n",
       "    <tr>\n",
       "      <th>4</th>\n",
       "      <td>Monday</td>\n",
       "      <td>1970-01-05 14:30:00</td>\n",
       "      <td>1970-01-05 15:05:00</td>\n",
       "      <td>Pedicure</td>\n",
       "      <td>35</td>\n",
       "      <td>Bob</td>\n",
       "      <td>0</td>\n",
       "    </tr>\n",
       "    <tr>\n",
       "      <th>5</th>\n",
       "      <td>Tuesday</td>\n",
       "      <td>1970-01-05 09:00:00</td>\n",
       "      <td>1970-01-05 09:35:00</td>\n",
       "      <td>Pedicure</td>\n",
       "      <td>35</td>\n",
       "      <td>Bob</td>\n",
       "      <td>1</td>\n",
       "    </tr>\n",
       "    <tr>\n",
       "      <th>6</th>\n",
       "      <td>Tuesday</td>\n",
       "      <td>1970-01-05 12:10:00</td>\n",
       "      <td>1970-01-05 12:55:00</td>\n",
       "      <td>Manicure</td>\n",
       "      <td>45</td>\n",
       "      <td>Charlie</td>\n",
       "      <td>1</td>\n",
       "    </tr>\n",
       "    <tr>\n",
       "      <th>7</th>\n",
       "      <td>Tuesday</td>\n",
       "      <td>1970-01-05 13:30:00</td>\n",
       "      <td>1970-01-05 14:15:00</td>\n",
       "      <td>Manicure</td>\n",
       "      <td>45</td>\n",
       "      <td>Alice</td>\n",
       "      <td>1</td>\n",
       "    </tr>\n",
       "    <tr>\n",
       "      <th>8</th>\n",
       "      <td>Tuesday</td>\n",
       "      <td>1970-01-05 14:30:00</td>\n",
       "      <td>1970-01-05 15:10:00</td>\n",
       "      <td>Haircut</td>\n",
       "      <td>40</td>\n",
       "      <td>Charlie</td>\n",
       "      <td>1</td>\n",
       "    </tr>\n",
       "    <tr>\n",
       "      <th>9</th>\n",
       "      <td>Tuesday</td>\n",
       "      <td>1970-01-05 15:20:00</td>\n",
       "      <td>1970-01-05 16:00:00</td>\n",
       "      <td>Haircut</td>\n",
       "      <td>40</td>\n",
       "      <td>Bob</td>\n",
       "      <td>1</td>\n",
       "    </tr>\n",
       "    <tr>\n",
       "      <th>10</th>\n",
       "      <td>Wednesday</td>\n",
       "      <td>1970-01-05 09:00:00</td>\n",
       "      <td>1970-01-05 09:35:00</td>\n",
       "      <td>Pedicure</td>\n",
       "      <td>35</td>\n",
       "      <td>Charlie</td>\n",
       "      <td>2</td>\n",
       "    </tr>\n",
       "    <tr>\n",
       "      <th>11</th>\n",
       "      <td>Wednesday</td>\n",
       "      <td>1970-01-05 10:10:00</td>\n",
       "      <td>1970-01-05 10:55:00</td>\n",
       "      <td>Manicure</td>\n",
       "      <td>45</td>\n",
       "      <td>Bob</td>\n",
       "      <td>2</td>\n",
       "    </tr>\n",
       "    <tr>\n",
       "      <th>12</th>\n",
       "      <td>Wednesday</td>\n",
       "      <td>1970-01-05 11:10:00</td>\n",
       "      <td>1970-01-05 11:55:00</td>\n",
       "      <td>Manicure</td>\n",
       "      <td>45</td>\n",
       "      <td>Alice</td>\n",
       "      <td>2</td>\n",
       "    </tr>\n",
       "    <tr>\n",
       "      <th>13</th>\n",
       "      <td>Wednesday</td>\n",
       "      <td>1970-01-05 12:10:00</td>\n",
       "      <td>1970-01-05 12:50:00</td>\n",
       "      <td>Haircut</td>\n",
       "      <td>40</td>\n",
       "      <td>Charlie</td>\n",
       "      <td>2</td>\n",
       "    </tr>\n",
       "    <tr>\n",
       "      <th>14</th>\n",
       "      <td>Wednesday</td>\n",
       "      <td>1970-01-05 14:30:00</td>\n",
       "      <td>1970-01-05 15:10:00</td>\n",
       "      <td>Haircut</td>\n",
       "      <td>40</td>\n",
       "      <td>Bob</td>\n",
       "      <td>2</td>\n",
       "    </tr>\n",
       "    <tr>\n",
       "      <th>15</th>\n",
       "      <td>Thursday</td>\n",
       "      <td>1970-01-05 09:00:00</td>\n",
       "      <td>1970-01-05 09:35:00</td>\n",
       "      <td>Pedicure</td>\n",
       "      <td>35</td>\n",
       "      <td>Bob</td>\n",
       "      <td>3</td>\n",
       "    </tr>\n",
       "    <tr>\n",
       "      <th>16</th>\n",
       "      <td>Thursday</td>\n",
       "      <td>1970-01-05 10:10:00</td>\n",
       "      <td>1970-01-05 10:45:00</td>\n",
       "      <td>Pedicure</td>\n",
       "      <td>35</td>\n",
       "      <td>Charlie</td>\n",
       "      <td>3</td>\n",
       "    </tr>\n",
       "    <tr>\n",
       "      <th>17</th>\n",
       "      <td>Thursday</td>\n",
       "      <td>1970-01-05 11:00:00</td>\n",
       "      <td>1970-01-05 11:40:00</td>\n",
       "      <td>Haircut</td>\n",
       "      <td>40</td>\n",
       "      <td>Alice</td>\n",
       "      <td>3</td>\n",
       "    </tr>\n",
       "    <tr>\n",
       "      <th>18</th>\n",
       "      <td>Thursday</td>\n",
       "      <td>1970-01-05 12:00:00</td>\n",
       "      <td>1970-01-05 12:45:00</td>\n",
       "      <td>Manicure</td>\n",
       "      <td>45</td>\n",
       "      <td>Charlie</td>\n",
       "      <td>3</td>\n",
       "    </tr>\n",
       "    <tr>\n",
       "      <th>19</th>\n",
       "      <td>Thursday</td>\n",
       "      <td>1970-01-05 13:00:00</td>\n",
       "      <td>1970-01-05 13:40:00</td>\n",
       "      <td>Haircut</td>\n",
       "      <td>40</td>\n",
       "      <td>Bob</td>\n",
       "      <td>3</td>\n",
       "    </tr>\n",
       "    <tr>\n",
       "      <th>20</th>\n",
       "      <td>Thursday</td>\n",
       "      <td>1970-01-05 14:20:00</td>\n",
       "      <td>1970-01-05 15:05:00</td>\n",
       "      <td>Manicure</td>\n",
       "      <td>45</td>\n",
       "      <td>Alice</td>\n",
       "      <td>3</td>\n",
       "    </tr>\n",
       "    <tr>\n",
       "      <th>21</th>\n",
       "      <td>Thursday</td>\n",
       "      <td>1970-01-05 15:20:00</td>\n",
       "      <td>1970-01-05 16:00:00</td>\n",
       "      <td>Haircut</td>\n",
       "      <td>40</td>\n",
       "      <td>Charlie</td>\n",
       "      <td>3</td>\n",
       "    </tr>\n",
       "    <tr>\n",
       "      <th>22</th>\n",
       "      <td>Friday</td>\n",
       "      <td>1970-01-05 10:00:00</td>\n",
       "      <td>1970-01-05 10:45:00</td>\n",
       "      <td>Manicure</td>\n",
       "      <td>45</td>\n",
       "      <td>Charlie</td>\n",
       "      <td>4</td>\n",
       "    </tr>\n",
       "    <tr>\n",
       "      <th>23</th>\n",
       "      <td>Friday</td>\n",
       "      <td>1970-01-05 11:30:00</td>\n",
       "      <td>1970-01-05 12:15:00</td>\n",
       "      <td>Manicure</td>\n",
       "      <td>45</td>\n",
       "      <td>Bob</td>\n",
       "      <td>4</td>\n",
       "    </tr>\n",
       "    <tr>\n",
       "      <th>24</th>\n",
       "      <td>Friday</td>\n",
       "      <td>1970-01-05 12:40:00</td>\n",
       "      <td>1970-01-05 13:20:00</td>\n",
       "      <td>Haircut</td>\n",
       "      <td>40</td>\n",
       "      <td>Charlie</td>\n",
       "      <td>4</td>\n",
       "    </tr>\n",
       "  </tbody>\n",
       "</table>\n",
       "</div>"
      ],
      "text/plain": [
       "          day          start_time            end_time service_id  duration  \\\n",
       "0      Monday 1970-01-05 09:30:00 1970-01-05 10:05:00   Pedicure        35   \n",
       "1      Monday 1970-01-05 11:30:00 1970-01-05 12:05:00   Pedicure        35   \n",
       "2      Monday 1970-01-05 12:30:00 1970-01-05 13:10:00    Haircut        40   \n",
       "3      Monday 1970-01-05 13:30:00 1970-01-05 14:10:00    Haircut        40   \n",
       "4      Monday 1970-01-05 14:30:00 1970-01-05 15:05:00   Pedicure        35   \n",
       "5     Tuesday 1970-01-05 09:00:00 1970-01-05 09:35:00   Pedicure        35   \n",
       "6     Tuesday 1970-01-05 12:10:00 1970-01-05 12:55:00   Manicure        45   \n",
       "7     Tuesday 1970-01-05 13:30:00 1970-01-05 14:15:00   Manicure        45   \n",
       "8     Tuesday 1970-01-05 14:30:00 1970-01-05 15:10:00    Haircut        40   \n",
       "9     Tuesday 1970-01-05 15:20:00 1970-01-05 16:00:00    Haircut        40   \n",
       "10  Wednesday 1970-01-05 09:00:00 1970-01-05 09:35:00   Pedicure        35   \n",
       "11  Wednesday 1970-01-05 10:10:00 1970-01-05 10:55:00   Manicure        45   \n",
       "12  Wednesday 1970-01-05 11:10:00 1970-01-05 11:55:00   Manicure        45   \n",
       "13  Wednesday 1970-01-05 12:10:00 1970-01-05 12:50:00    Haircut        40   \n",
       "14  Wednesday 1970-01-05 14:30:00 1970-01-05 15:10:00    Haircut        40   \n",
       "15   Thursday 1970-01-05 09:00:00 1970-01-05 09:35:00   Pedicure        35   \n",
       "16   Thursday 1970-01-05 10:10:00 1970-01-05 10:45:00   Pedicure        35   \n",
       "17   Thursday 1970-01-05 11:00:00 1970-01-05 11:40:00    Haircut        40   \n",
       "18   Thursday 1970-01-05 12:00:00 1970-01-05 12:45:00   Manicure        45   \n",
       "19   Thursday 1970-01-05 13:00:00 1970-01-05 13:40:00    Haircut        40   \n",
       "20   Thursday 1970-01-05 14:20:00 1970-01-05 15:05:00   Manicure        45   \n",
       "21   Thursday 1970-01-05 15:20:00 1970-01-05 16:00:00    Haircut        40   \n",
       "22     Friday 1970-01-05 10:00:00 1970-01-05 10:45:00   Manicure        45   \n",
       "23     Friday 1970-01-05 11:30:00 1970-01-05 12:15:00   Manicure        45   \n",
       "24     Friday 1970-01-05 12:40:00 1970-01-05 13:20:00    Haircut        40   \n",
       "\n",
       "   client_id  day_order  \n",
       "0      Alice          0  \n",
       "1    Charlie          0  \n",
       "2      Alice          0  \n",
       "3    Charlie          0  \n",
       "4        Bob          0  \n",
       "5        Bob          1  \n",
       "6    Charlie          1  \n",
       "7      Alice          1  \n",
       "8    Charlie          1  \n",
       "9        Bob          1  \n",
       "10   Charlie          2  \n",
       "11       Bob          2  \n",
       "12     Alice          2  \n",
       "13   Charlie          2  \n",
       "14       Bob          2  \n",
       "15       Bob          3  \n",
       "16   Charlie          3  \n",
       "17     Alice          3  \n",
       "18   Charlie          3  \n",
       "19       Bob          3  \n",
       "20     Alice          3  \n",
       "21   Charlie          3  \n",
       "22   Charlie          4  \n",
       "23       Bob          4  \n",
       "24   Charlie          4  "
      ]
     },
     "execution_count": 51,
     "metadata": {},
     "output_type": "execute_result"
    }
   ],
   "source": [
    "df = pd.DataFrame(appointments)   \n",
    "week_order = [\"Monday\", \"Tuesday\", \"Wednesday\", \"Thursday\", \"Friday\"]\n",
    "df[\"day_order\"] = df[\"day\"].apply(lambda x: week_order.index(x))\n",
    "df = df.sort_values(by=[\"day_order\", \"start_time\"]).reset_index(drop=True)\n",
    "df.head(30)"
   ]
  },
  {
   "cell_type": "code",
   "execution_count": 3,
   "metadata": {},
   "outputs": [],
   "source": [
    "date_line_map={\"Monday\": [3.5,4.5],\"Tuesday\":[2.5,3.5],\"Wednesday\":[1.5,2.5],\"Thursday\":[0.5,1.5],\"Friday\":[-0.5,0.5]}"
   ]
  },
  {
   "cell_type": "code",
   "execution_count": 54,
   "metadata": {},
   "outputs": [],
   "source": [
    "import pandas as pd\n",
    "import plotly.express as px\n",
    "\n",
    "\n",
    "\n",
    "def shedule_plot(df, current_time):\n",
    "    week_order = [\"Monday\", \"Tuesday\", \"Wednesday\", \"Thursday\", \"Friday\"]\n",
    "    \n",
    "    current_day, current_time = current_time.split(\" \")\n",
    "    current_time = datetime.strptime(f\"1970-01-05 {current_time}\", \"%Y-%m-%d %H:%M\")\n",
    "    current_time = current_time.timestamp() * 1000\n",
    "\n",
    "    if current_day not in week_order:\n",
    "        print(\"❌ Ошибка: день вне рабочего диапазона!\")\n",
    "        return\n",
    "        \n",
    "    date_line_map={\"Monday\": [3.5,4.5],\"Tuesday\":[2.5,3.5],\"Wednesday\":[1.5,2.5],\"Thursday\":[0.5,1.5],\"Friday\":[-0.5,0.5]}\n",
    "    \n",
    "    df[\"day_order\"] = df[\"day\"].apply(lambda x: week_order.index(x))\n",
    "    print(df.head(25))\n",
    "\n",
    "    fig = px.timeline(\n",
    "        df,\n",
    "        x_start=\"start_time\",\n",
    "        x_end=\"end_time\",\n",
    "        y=\"day_order\",\n",
    "        color=\"client_id\",\n",
    "        pattern_shape=\"service_id\",\n",
    "        title=\"Client Appointments Schedule\",\n",
    "        labels={\"day\": \"\"},\n",
    "        text = \"client_id\",\n",
    "        #category_orders={\"day\": week_order}\n",
    "    )  \n",
    "    \n",
    "    col_list = [1,2,3,5]\n",
    "    new_template = \"\"\n",
    "    for col in col_list:\n",
    "        new_template = new_template + df.columns[col]+\":\"+f\"%{{customdata[{col}]}}<br>\"\n",
    "\n",
    "    fig.update_traces(\n",
    "            textposition='inside',\n",
    "            marker=dict(line=dict(color='black', width=1)),\n",
    "            customdata=df,\n",
    "            hovertemplate=new_template\n",
    "             \n",
    "    )\n",
    "    fig.update_coloraxes(showscale=False)\n",
    "\n",
    "    fig.add_shape(\n",
    "        dict(\n",
    "            type=\"line\",\n",
    "            x0=current_time,\n",
    "            x1=current_time,\n",
    "            y0=date_line_map[current_day][0],\n",
    "            y1=date_line_map[current_day][1],\n",
    "            line=dict(color=\"red\", width=3),\n",
    "        )\n",
    "    )\n",
    "\n",
    "    \n",
    "\n",
    "    fig.add_trace(go.Scatter(\n",
    "        x=[current_time],\n",
    "        y=[current_day],\n",
    "        mode=\"markers\",\n",
    "        marker=dict(size=12, color=\"red\", symbol=\"circle\"),\n",
    "        name=\"Current Time\",\n",
    "        hovertemplate=\"<b>Current Time<br>Day:</b>%{y}<br><b>Time:</b> %{x|%H:%M}<extra></extra>\"\n",
    "    ))\n",
    "\n",
    "    fig.show()"
   ]
  },
  {
   "cell_type": "code",
   "execution_count": 55,
   "metadata": {},
   "outputs": [
    {
     "name": "stdout",
     "output_type": "stream",
     "text": [
      "          day          start_time            end_time service_id  duration  \\\n",
      "0   Wednesday 1970-01-05 11:10:00 1970-01-05 11:55:00   Manicure        45   \n",
      "1      Friday 1970-01-05 11:30:00 1970-01-05 12:15:00   Manicure        45   \n",
      "2    Thursday 1970-01-05 14:20:00 1970-01-05 15:05:00   Manicure        45   \n",
      "3   Wednesday 1970-01-05 12:10:00 1970-01-05 12:50:00    Haircut        40   \n",
      "4     Tuesday 1970-01-05 12:10:00 1970-01-05 12:55:00   Manicure        45   \n",
      "5    Thursday 1970-01-05 15:20:00 1970-01-05 16:00:00    Haircut        40   \n",
      "6      Monday 1970-01-05 11:30:00 1970-01-05 12:05:00   Pedicure        35   \n",
      "7      Monday 1970-01-05 14:30:00 1970-01-05 15:05:00   Pedicure        35   \n",
      "8   Wednesday 1970-01-05 09:00:00 1970-01-05 09:35:00   Pedicure        35   \n",
      "9     Tuesday 1970-01-05 13:30:00 1970-01-05 14:15:00   Manicure        45   \n",
      "10     Monday 1970-01-05 12:30:00 1970-01-05 13:10:00    Haircut        40   \n",
      "11  Wednesday 1970-01-05 14:30:00 1970-01-05 15:10:00    Haircut        40   \n",
      "12     Friday 1970-01-05 12:40:00 1970-01-05 13:20:00    Haircut        40   \n",
      "13   Thursday 1970-01-05 12:00:00 1970-01-05 12:45:00   Manicure        45   \n",
      "14     Friday 1970-01-05 10:00:00 1970-01-05 10:45:00   Manicure        45   \n",
      "15    Tuesday 1970-01-05 15:20:00 1970-01-05 16:00:00    Haircut        40   \n",
      "16     Monday 1970-01-05 13:30:00 1970-01-05 14:10:00    Haircut        40   \n",
      "17   Thursday 1970-01-05 11:00:00 1970-01-05 11:40:00    Haircut        40   \n",
      "18   Thursday 1970-01-05 09:00:00 1970-01-05 09:35:00   Pedicure        35   \n",
      "19   Thursday 1970-01-05 13:00:00 1970-01-05 13:40:00    Haircut        40   \n",
      "20     Monday 1970-01-05 09:30:00 1970-01-05 10:05:00   Pedicure        35   \n",
      "21    Tuesday 1970-01-05 09:00:00 1970-01-05 09:35:00   Pedicure        35   \n",
      "22    Tuesday 1970-01-05 14:30:00 1970-01-05 15:10:00    Haircut        40   \n",
      "23   Thursday 1970-01-05 10:10:00 1970-01-05 10:45:00   Pedicure        35   \n",
      "24  Wednesday 1970-01-05 10:10:00 1970-01-05 10:55:00   Manicure        45   \n",
      "\n",
      "   client_id  day_order  \n",
      "0      Alice          2  \n",
      "1        Bob          4  \n",
      "2      Alice          3  \n",
      "3    Charlie          2  \n",
      "4    Charlie          1  \n",
      "5    Charlie          3  \n",
      "6    Charlie          0  \n",
      "7        Bob          0  \n",
      "8    Charlie          2  \n",
      "9      Alice          1  \n",
      "10     Alice          0  \n",
      "11       Bob          2  \n",
      "12   Charlie          4  \n",
      "13   Charlie          3  \n",
      "14   Charlie          4  \n",
      "15       Bob          1  \n",
      "16   Charlie          0  \n",
      "17     Alice          3  \n",
      "18       Bob          3  \n",
      "19       Bob          3  \n",
      "20     Alice          0  \n",
      "21       Bob          1  \n",
      "22   Charlie          1  \n",
      "23   Charlie          3  \n",
      "24       Bob          2  \n"
     ]
    },
    {
     "data": {
      "application/vnd.plotly.v1+json": {
       "config": {
        "plotlyServerURL": "https://plot.ly"
       },
       "data": [
        {
         "base": [
          "1970-01-05T11:10:00.000000000",
          "1970-01-05T14:20:00.000000000",
          "1970-01-05T13:30:00.000000000"
         ],
         "customdata": [
          [
           "Wednesday",
           "1970-01-05T11:10:00",
           "1970-01-05T11:55:00",
           "Manicure",
           45,
           "Alice",
           2
          ],
          [
           "Friday",
           "1970-01-05T11:30:00",
           "1970-01-05T12:15:00",
           "Manicure",
           45,
           "Bob",
           4
          ],
          [
           "Thursday",
           "1970-01-05T14:20:00",
           "1970-01-05T15:05:00",
           "Manicure",
           45,
           "Alice",
           3
          ],
          [
           "Wednesday",
           "1970-01-05T12:10:00",
           "1970-01-05T12:50:00",
           "Haircut",
           40,
           "Charlie",
           2
          ],
          [
           "Tuesday",
           "1970-01-05T12:10:00",
           "1970-01-05T12:55:00",
           "Manicure",
           45,
           "Charlie",
           1
          ],
          [
           "Thursday",
           "1970-01-05T15:20:00",
           "1970-01-05T16:00:00",
           "Haircut",
           40,
           "Charlie",
           3
          ],
          [
           "Monday",
           "1970-01-05T11:30:00",
           "1970-01-05T12:05:00",
           "Pedicure",
           35,
           "Charlie",
           0
          ],
          [
           "Monday",
           "1970-01-05T14:30:00",
           "1970-01-05T15:05:00",
           "Pedicure",
           35,
           "Bob",
           0
          ],
          [
           "Wednesday",
           "1970-01-05T09:00:00",
           "1970-01-05T09:35:00",
           "Pedicure",
           35,
           "Charlie",
           2
          ],
          [
           "Tuesday",
           "1970-01-05T13:30:00",
           "1970-01-05T14:15:00",
           "Manicure",
           45,
           "Alice",
           1
          ],
          [
           "Monday",
           "1970-01-05T12:30:00",
           "1970-01-05T13:10:00",
           "Haircut",
           40,
           "Alice",
           0
          ],
          [
           "Wednesday",
           "1970-01-05T14:30:00",
           "1970-01-05T15:10:00",
           "Haircut",
           40,
           "Bob",
           2
          ],
          [
           "Friday",
           "1970-01-05T12:40:00",
           "1970-01-05T13:20:00",
           "Haircut",
           40,
           "Charlie",
           4
          ],
          [
           "Thursday",
           "1970-01-05T12:00:00",
           "1970-01-05T12:45:00",
           "Manicure",
           45,
           "Charlie",
           3
          ],
          [
           "Friday",
           "1970-01-05T10:00:00",
           "1970-01-05T10:45:00",
           "Manicure",
           45,
           "Charlie",
           4
          ],
          [
           "Tuesday",
           "1970-01-05T15:20:00",
           "1970-01-05T16:00:00",
           "Haircut",
           40,
           "Bob",
           1
          ],
          [
           "Monday",
           "1970-01-05T13:30:00",
           "1970-01-05T14:10:00",
           "Haircut",
           40,
           "Charlie",
           0
          ],
          [
           "Thursday",
           "1970-01-05T11:00:00",
           "1970-01-05T11:40:00",
           "Haircut",
           40,
           "Alice",
           3
          ],
          [
           "Thursday",
           "1970-01-05T09:00:00",
           "1970-01-05T09:35:00",
           "Pedicure",
           35,
           "Bob",
           3
          ],
          [
           "Thursday",
           "1970-01-05T13:00:00",
           "1970-01-05T13:40:00",
           "Haircut",
           40,
           "Bob",
           3
          ],
          [
           "Monday",
           "1970-01-05T09:30:00",
           "1970-01-05T10:05:00",
           "Pedicure",
           35,
           "Alice",
           0
          ],
          [
           "Tuesday",
           "1970-01-05T09:00:00",
           "1970-01-05T09:35:00",
           "Pedicure",
           35,
           "Bob",
           1
          ],
          [
           "Tuesday",
           "1970-01-05T14:30:00",
           "1970-01-05T15:10:00",
           "Haircut",
           40,
           "Charlie",
           1
          ],
          [
           "Thursday",
           "1970-01-05T10:10:00",
           "1970-01-05T10:45:00",
           "Pedicure",
           35,
           "Charlie",
           3
          ],
          [
           "Wednesday",
           "1970-01-05T10:10:00",
           "1970-01-05T10:55:00",
           "Manicure",
           45,
           "Bob",
           2
          ]
         ],
         "hovertemplate": "start_time:%{customdata[1]}<br>end_time:%{customdata[2]}<br>service_id:%{customdata[3]}<br>client_id:%{customdata[5]}<br>",
         "legendgroup": "Alice, Manicure",
         "marker": {
          "color": "#636efa",
          "line": {
           "color": "black",
           "width": 1
          },
          "pattern": {
           "shape": ""
          }
         },
         "name": "Alice, Manicure",
         "orientation": "h",
         "showlegend": true,
         "text": [
          "Alice",
          "Alice",
          "Alice"
         ],
         "textposition": "inside",
         "type": "bar",
         "x": {
          "bdata": "4DIpAOAyKQDgMikA",
          "dtype": "i4"
         },
         "xaxis": "x",
         "y": {
          "bdata": "AgMB",
          "dtype": "i1"
         },
         "yaxis": "y"
        },
        {
         "base": [
          "1970-01-05T12:30:00.000000000",
          "1970-01-05T11:00:00.000000000"
         ],
         "customdata": [
          [
           "Wednesday",
           "1970-01-05T11:10:00",
           "1970-01-05T11:55:00",
           "Manicure",
           45,
           "Alice",
           2
          ],
          [
           "Friday",
           "1970-01-05T11:30:00",
           "1970-01-05T12:15:00",
           "Manicure",
           45,
           "Bob",
           4
          ],
          [
           "Thursday",
           "1970-01-05T14:20:00",
           "1970-01-05T15:05:00",
           "Manicure",
           45,
           "Alice",
           3
          ],
          [
           "Wednesday",
           "1970-01-05T12:10:00",
           "1970-01-05T12:50:00",
           "Haircut",
           40,
           "Charlie",
           2
          ],
          [
           "Tuesday",
           "1970-01-05T12:10:00",
           "1970-01-05T12:55:00",
           "Manicure",
           45,
           "Charlie",
           1
          ],
          [
           "Thursday",
           "1970-01-05T15:20:00",
           "1970-01-05T16:00:00",
           "Haircut",
           40,
           "Charlie",
           3
          ],
          [
           "Monday",
           "1970-01-05T11:30:00",
           "1970-01-05T12:05:00",
           "Pedicure",
           35,
           "Charlie",
           0
          ],
          [
           "Monday",
           "1970-01-05T14:30:00",
           "1970-01-05T15:05:00",
           "Pedicure",
           35,
           "Bob",
           0
          ],
          [
           "Wednesday",
           "1970-01-05T09:00:00",
           "1970-01-05T09:35:00",
           "Pedicure",
           35,
           "Charlie",
           2
          ],
          [
           "Tuesday",
           "1970-01-05T13:30:00",
           "1970-01-05T14:15:00",
           "Manicure",
           45,
           "Alice",
           1
          ],
          [
           "Monday",
           "1970-01-05T12:30:00",
           "1970-01-05T13:10:00",
           "Haircut",
           40,
           "Alice",
           0
          ],
          [
           "Wednesday",
           "1970-01-05T14:30:00",
           "1970-01-05T15:10:00",
           "Haircut",
           40,
           "Bob",
           2
          ],
          [
           "Friday",
           "1970-01-05T12:40:00",
           "1970-01-05T13:20:00",
           "Haircut",
           40,
           "Charlie",
           4
          ],
          [
           "Thursday",
           "1970-01-05T12:00:00",
           "1970-01-05T12:45:00",
           "Manicure",
           45,
           "Charlie",
           3
          ],
          [
           "Friday",
           "1970-01-05T10:00:00",
           "1970-01-05T10:45:00",
           "Manicure",
           45,
           "Charlie",
           4
          ],
          [
           "Tuesday",
           "1970-01-05T15:20:00",
           "1970-01-05T16:00:00",
           "Haircut",
           40,
           "Bob",
           1
          ],
          [
           "Monday",
           "1970-01-05T13:30:00",
           "1970-01-05T14:10:00",
           "Haircut",
           40,
           "Charlie",
           0
          ],
          [
           "Thursday",
           "1970-01-05T11:00:00",
           "1970-01-05T11:40:00",
           "Haircut",
           40,
           "Alice",
           3
          ],
          [
           "Thursday",
           "1970-01-05T09:00:00",
           "1970-01-05T09:35:00",
           "Pedicure",
           35,
           "Bob",
           3
          ],
          [
           "Thursday",
           "1970-01-05T13:00:00",
           "1970-01-05T13:40:00",
           "Haircut",
           40,
           "Bob",
           3
          ],
          [
           "Monday",
           "1970-01-05T09:30:00",
           "1970-01-05T10:05:00",
           "Pedicure",
           35,
           "Alice",
           0
          ],
          [
           "Tuesday",
           "1970-01-05T09:00:00",
           "1970-01-05T09:35:00",
           "Pedicure",
           35,
           "Bob",
           1
          ],
          [
           "Tuesday",
           "1970-01-05T14:30:00",
           "1970-01-05T15:10:00",
           "Haircut",
           40,
           "Charlie",
           1
          ],
          [
           "Thursday",
           "1970-01-05T10:10:00",
           "1970-01-05T10:45:00",
           "Pedicure",
           35,
           "Charlie",
           3
          ],
          [
           "Wednesday",
           "1970-01-05T10:10:00",
           "1970-01-05T10:55:00",
           "Manicure",
           45,
           "Bob",
           2
          ]
         ],
         "hovertemplate": "start_time:%{customdata[1]}<br>end_time:%{customdata[2]}<br>service_id:%{customdata[3]}<br>client_id:%{customdata[5]}<br>",
         "legendgroup": "Alice, Haircut",
         "marker": {
          "color": "#636efa",
          "line": {
           "color": "black",
           "width": 1
          },
          "pattern": {
           "shape": "/"
          }
         },
         "name": "Alice, Haircut",
         "orientation": "h",
         "showlegend": true,
         "text": [
          "Alice",
          "Alice"
         ],
         "textposition": "inside",
         "type": "bar",
         "x": {
          "bdata": "AJ8kAACfJAA=",
          "dtype": "i4"
         },
         "xaxis": "x",
         "y": {
          "bdata": "AAM=",
          "dtype": "i1"
         },
         "yaxis": "y"
        },
        {
         "base": [
          "1970-01-05T09:30:00.000000000"
         ],
         "customdata": [
          [
           "Wednesday",
           "1970-01-05T11:10:00",
           "1970-01-05T11:55:00",
           "Manicure",
           45,
           "Alice",
           2
          ],
          [
           "Friday",
           "1970-01-05T11:30:00",
           "1970-01-05T12:15:00",
           "Manicure",
           45,
           "Bob",
           4
          ],
          [
           "Thursday",
           "1970-01-05T14:20:00",
           "1970-01-05T15:05:00",
           "Manicure",
           45,
           "Alice",
           3
          ],
          [
           "Wednesday",
           "1970-01-05T12:10:00",
           "1970-01-05T12:50:00",
           "Haircut",
           40,
           "Charlie",
           2
          ],
          [
           "Tuesday",
           "1970-01-05T12:10:00",
           "1970-01-05T12:55:00",
           "Manicure",
           45,
           "Charlie",
           1
          ],
          [
           "Thursday",
           "1970-01-05T15:20:00",
           "1970-01-05T16:00:00",
           "Haircut",
           40,
           "Charlie",
           3
          ],
          [
           "Monday",
           "1970-01-05T11:30:00",
           "1970-01-05T12:05:00",
           "Pedicure",
           35,
           "Charlie",
           0
          ],
          [
           "Monday",
           "1970-01-05T14:30:00",
           "1970-01-05T15:05:00",
           "Pedicure",
           35,
           "Bob",
           0
          ],
          [
           "Wednesday",
           "1970-01-05T09:00:00",
           "1970-01-05T09:35:00",
           "Pedicure",
           35,
           "Charlie",
           2
          ],
          [
           "Tuesday",
           "1970-01-05T13:30:00",
           "1970-01-05T14:15:00",
           "Manicure",
           45,
           "Alice",
           1
          ],
          [
           "Monday",
           "1970-01-05T12:30:00",
           "1970-01-05T13:10:00",
           "Haircut",
           40,
           "Alice",
           0
          ],
          [
           "Wednesday",
           "1970-01-05T14:30:00",
           "1970-01-05T15:10:00",
           "Haircut",
           40,
           "Bob",
           2
          ],
          [
           "Friday",
           "1970-01-05T12:40:00",
           "1970-01-05T13:20:00",
           "Haircut",
           40,
           "Charlie",
           4
          ],
          [
           "Thursday",
           "1970-01-05T12:00:00",
           "1970-01-05T12:45:00",
           "Manicure",
           45,
           "Charlie",
           3
          ],
          [
           "Friday",
           "1970-01-05T10:00:00",
           "1970-01-05T10:45:00",
           "Manicure",
           45,
           "Charlie",
           4
          ],
          [
           "Tuesday",
           "1970-01-05T15:20:00",
           "1970-01-05T16:00:00",
           "Haircut",
           40,
           "Bob",
           1
          ],
          [
           "Monday",
           "1970-01-05T13:30:00",
           "1970-01-05T14:10:00",
           "Haircut",
           40,
           "Charlie",
           0
          ],
          [
           "Thursday",
           "1970-01-05T11:00:00",
           "1970-01-05T11:40:00",
           "Haircut",
           40,
           "Alice",
           3
          ],
          [
           "Thursday",
           "1970-01-05T09:00:00",
           "1970-01-05T09:35:00",
           "Pedicure",
           35,
           "Bob",
           3
          ],
          [
           "Thursday",
           "1970-01-05T13:00:00",
           "1970-01-05T13:40:00",
           "Haircut",
           40,
           "Bob",
           3
          ],
          [
           "Monday",
           "1970-01-05T09:30:00",
           "1970-01-05T10:05:00",
           "Pedicure",
           35,
           "Alice",
           0
          ],
          [
           "Tuesday",
           "1970-01-05T09:00:00",
           "1970-01-05T09:35:00",
           "Pedicure",
           35,
           "Bob",
           1
          ],
          [
           "Tuesday",
           "1970-01-05T14:30:00",
           "1970-01-05T15:10:00",
           "Haircut",
           40,
           "Charlie",
           1
          ],
          [
           "Thursday",
           "1970-01-05T10:10:00",
           "1970-01-05T10:45:00",
           "Pedicure",
           35,
           "Charlie",
           3
          ],
          [
           "Wednesday",
           "1970-01-05T10:10:00",
           "1970-01-05T10:55:00",
           "Manicure",
           45,
           "Bob",
           2
          ]
         ],
         "hovertemplate": "start_time:%{customdata[1]}<br>end_time:%{customdata[2]}<br>service_id:%{customdata[3]}<br>client_id:%{customdata[5]}<br>",
         "legendgroup": "Alice, Pedicure",
         "marker": {
          "color": "#636efa",
          "line": {
           "color": "black",
           "width": 1
          },
          "pattern": {
           "shape": "\\"
          }
         },
         "name": "Alice, Pedicure",
         "orientation": "h",
         "showlegend": true,
         "text": [
          "Alice"
         ],
         "textposition": "inside",
         "type": "bar",
         "x": {
          "bdata": "IAsgAA==",
          "dtype": "i4"
         },
         "xaxis": "x",
         "y": {
          "bdata": "AA==",
          "dtype": "i1"
         },
         "yaxis": "y"
        },
        {
         "base": [
          "1970-01-05T11:30:00.000000000",
          "1970-01-05T10:10:00.000000000"
         ],
         "customdata": [
          [
           "Wednesday",
           "1970-01-05T11:10:00",
           "1970-01-05T11:55:00",
           "Manicure",
           45,
           "Alice",
           2
          ],
          [
           "Friday",
           "1970-01-05T11:30:00",
           "1970-01-05T12:15:00",
           "Manicure",
           45,
           "Bob",
           4
          ],
          [
           "Thursday",
           "1970-01-05T14:20:00",
           "1970-01-05T15:05:00",
           "Manicure",
           45,
           "Alice",
           3
          ],
          [
           "Wednesday",
           "1970-01-05T12:10:00",
           "1970-01-05T12:50:00",
           "Haircut",
           40,
           "Charlie",
           2
          ],
          [
           "Tuesday",
           "1970-01-05T12:10:00",
           "1970-01-05T12:55:00",
           "Manicure",
           45,
           "Charlie",
           1
          ],
          [
           "Thursday",
           "1970-01-05T15:20:00",
           "1970-01-05T16:00:00",
           "Haircut",
           40,
           "Charlie",
           3
          ],
          [
           "Monday",
           "1970-01-05T11:30:00",
           "1970-01-05T12:05:00",
           "Pedicure",
           35,
           "Charlie",
           0
          ],
          [
           "Monday",
           "1970-01-05T14:30:00",
           "1970-01-05T15:05:00",
           "Pedicure",
           35,
           "Bob",
           0
          ],
          [
           "Wednesday",
           "1970-01-05T09:00:00",
           "1970-01-05T09:35:00",
           "Pedicure",
           35,
           "Charlie",
           2
          ],
          [
           "Tuesday",
           "1970-01-05T13:30:00",
           "1970-01-05T14:15:00",
           "Manicure",
           45,
           "Alice",
           1
          ],
          [
           "Monday",
           "1970-01-05T12:30:00",
           "1970-01-05T13:10:00",
           "Haircut",
           40,
           "Alice",
           0
          ],
          [
           "Wednesday",
           "1970-01-05T14:30:00",
           "1970-01-05T15:10:00",
           "Haircut",
           40,
           "Bob",
           2
          ],
          [
           "Friday",
           "1970-01-05T12:40:00",
           "1970-01-05T13:20:00",
           "Haircut",
           40,
           "Charlie",
           4
          ],
          [
           "Thursday",
           "1970-01-05T12:00:00",
           "1970-01-05T12:45:00",
           "Manicure",
           45,
           "Charlie",
           3
          ],
          [
           "Friday",
           "1970-01-05T10:00:00",
           "1970-01-05T10:45:00",
           "Manicure",
           45,
           "Charlie",
           4
          ],
          [
           "Tuesday",
           "1970-01-05T15:20:00",
           "1970-01-05T16:00:00",
           "Haircut",
           40,
           "Bob",
           1
          ],
          [
           "Monday",
           "1970-01-05T13:30:00",
           "1970-01-05T14:10:00",
           "Haircut",
           40,
           "Charlie",
           0
          ],
          [
           "Thursday",
           "1970-01-05T11:00:00",
           "1970-01-05T11:40:00",
           "Haircut",
           40,
           "Alice",
           3
          ],
          [
           "Thursday",
           "1970-01-05T09:00:00",
           "1970-01-05T09:35:00",
           "Pedicure",
           35,
           "Bob",
           3
          ],
          [
           "Thursday",
           "1970-01-05T13:00:00",
           "1970-01-05T13:40:00",
           "Haircut",
           40,
           "Bob",
           3
          ],
          [
           "Monday",
           "1970-01-05T09:30:00",
           "1970-01-05T10:05:00",
           "Pedicure",
           35,
           "Alice",
           0
          ],
          [
           "Tuesday",
           "1970-01-05T09:00:00",
           "1970-01-05T09:35:00",
           "Pedicure",
           35,
           "Bob",
           1
          ],
          [
           "Tuesday",
           "1970-01-05T14:30:00",
           "1970-01-05T15:10:00",
           "Haircut",
           40,
           "Charlie",
           1
          ],
          [
           "Thursday",
           "1970-01-05T10:10:00",
           "1970-01-05T10:45:00",
           "Pedicure",
           35,
           "Charlie",
           3
          ],
          [
           "Wednesday",
           "1970-01-05T10:10:00",
           "1970-01-05T10:55:00",
           "Manicure",
           45,
           "Bob",
           2
          ]
         ],
         "hovertemplate": "start_time:%{customdata[1]}<br>end_time:%{customdata[2]}<br>service_id:%{customdata[3]}<br>client_id:%{customdata[5]}<br>",
         "legendgroup": "Bob, Manicure",
         "marker": {
          "color": "#EF553B",
          "line": {
           "color": "black",
           "width": 1
          },
          "pattern": {
           "shape": ""
          }
         },
         "name": "Bob, Manicure",
         "orientation": "h",
         "showlegend": true,
         "text": [
          "Bob",
          "Bob"
         ],
         "textposition": "inside",
         "type": "bar",
         "x": {
          "bdata": "4DIpAOAyKQA=",
          "dtype": "i4"
         },
         "xaxis": "x",
         "y": {
          "bdata": "BAI=",
          "dtype": "i1"
         },
         "yaxis": "y"
        },
        {
         "base": [
          "1970-01-05T14:30:00.000000000",
          "1970-01-05T15:20:00.000000000",
          "1970-01-05T13:00:00.000000000"
         ],
         "customdata": [
          [
           "Wednesday",
           "1970-01-05T11:10:00",
           "1970-01-05T11:55:00",
           "Manicure",
           45,
           "Alice",
           2
          ],
          [
           "Friday",
           "1970-01-05T11:30:00",
           "1970-01-05T12:15:00",
           "Manicure",
           45,
           "Bob",
           4
          ],
          [
           "Thursday",
           "1970-01-05T14:20:00",
           "1970-01-05T15:05:00",
           "Manicure",
           45,
           "Alice",
           3
          ],
          [
           "Wednesday",
           "1970-01-05T12:10:00",
           "1970-01-05T12:50:00",
           "Haircut",
           40,
           "Charlie",
           2
          ],
          [
           "Tuesday",
           "1970-01-05T12:10:00",
           "1970-01-05T12:55:00",
           "Manicure",
           45,
           "Charlie",
           1
          ],
          [
           "Thursday",
           "1970-01-05T15:20:00",
           "1970-01-05T16:00:00",
           "Haircut",
           40,
           "Charlie",
           3
          ],
          [
           "Monday",
           "1970-01-05T11:30:00",
           "1970-01-05T12:05:00",
           "Pedicure",
           35,
           "Charlie",
           0
          ],
          [
           "Monday",
           "1970-01-05T14:30:00",
           "1970-01-05T15:05:00",
           "Pedicure",
           35,
           "Bob",
           0
          ],
          [
           "Wednesday",
           "1970-01-05T09:00:00",
           "1970-01-05T09:35:00",
           "Pedicure",
           35,
           "Charlie",
           2
          ],
          [
           "Tuesday",
           "1970-01-05T13:30:00",
           "1970-01-05T14:15:00",
           "Manicure",
           45,
           "Alice",
           1
          ],
          [
           "Monday",
           "1970-01-05T12:30:00",
           "1970-01-05T13:10:00",
           "Haircut",
           40,
           "Alice",
           0
          ],
          [
           "Wednesday",
           "1970-01-05T14:30:00",
           "1970-01-05T15:10:00",
           "Haircut",
           40,
           "Bob",
           2
          ],
          [
           "Friday",
           "1970-01-05T12:40:00",
           "1970-01-05T13:20:00",
           "Haircut",
           40,
           "Charlie",
           4
          ],
          [
           "Thursday",
           "1970-01-05T12:00:00",
           "1970-01-05T12:45:00",
           "Manicure",
           45,
           "Charlie",
           3
          ],
          [
           "Friday",
           "1970-01-05T10:00:00",
           "1970-01-05T10:45:00",
           "Manicure",
           45,
           "Charlie",
           4
          ],
          [
           "Tuesday",
           "1970-01-05T15:20:00",
           "1970-01-05T16:00:00",
           "Haircut",
           40,
           "Bob",
           1
          ],
          [
           "Monday",
           "1970-01-05T13:30:00",
           "1970-01-05T14:10:00",
           "Haircut",
           40,
           "Charlie",
           0
          ],
          [
           "Thursday",
           "1970-01-05T11:00:00",
           "1970-01-05T11:40:00",
           "Haircut",
           40,
           "Alice",
           3
          ],
          [
           "Thursday",
           "1970-01-05T09:00:00",
           "1970-01-05T09:35:00",
           "Pedicure",
           35,
           "Bob",
           3
          ],
          [
           "Thursday",
           "1970-01-05T13:00:00",
           "1970-01-05T13:40:00",
           "Haircut",
           40,
           "Bob",
           3
          ],
          [
           "Monday",
           "1970-01-05T09:30:00",
           "1970-01-05T10:05:00",
           "Pedicure",
           35,
           "Alice",
           0
          ],
          [
           "Tuesday",
           "1970-01-05T09:00:00",
           "1970-01-05T09:35:00",
           "Pedicure",
           35,
           "Bob",
           1
          ],
          [
           "Tuesday",
           "1970-01-05T14:30:00",
           "1970-01-05T15:10:00",
           "Haircut",
           40,
           "Charlie",
           1
          ],
          [
           "Thursday",
           "1970-01-05T10:10:00",
           "1970-01-05T10:45:00",
           "Pedicure",
           35,
           "Charlie",
           3
          ],
          [
           "Wednesday",
           "1970-01-05T10:10:00",
           "1970-01-05T10:55:00",
           "Manicure",
           45,
           "Bob",
           2
          ]
         ],
         "hovertemplate": "start_time:%{customdata[1]}<br>end_time:%{customdata[2]}<br>service_id:%{customdata[3]}<br>client_id:%{customdata[5]}<br>",
         "legendgroup": "Bob, Haircut",
         "marker": {
          "color": "#EF553B",
          "line": {
           "color": "black",
           "width": 1
          },
          "pattern": {
           "shape": "/"
          }
         },
         "name": "Bob, Haircut",
         "orientation": "h",
         "showlegend": true,
         "text": [
          "Bob",
          "Bob",
          "Bob"
         ],
         "textposition": "inside",
         "type": "bar",
         "x": {
          "bdata": "AJ8kAACfJAAAnyQA",
          "dtype": "i4"
         },
         "xaxis": "x",
         "y": {
          "bdata": "AgED",
          "dtype": "i1"
         },
         "yaxis": "y"
        },
        {
         "base": [
          "1970-01-05T14:30:00.000000000",
          "1970-01-05T09:00:00.000000000",
          "1970-01-05T09:00:00.000000000"
         ],
         "customdata": [
          [
           "Wednesday",
           "1970-01-05T11:10:00",
           "1970-01-05T11:55:00",
           "Manicure",
           45,
           "Alice",
           2
          ],
          [
           "Friday",
           "1970-01-05T11:30:00",
           "1970-01-05T12:15:00",
           "Manicure",
           45,
           "Bob",
           4
          ],
          [
           "Thursday",
           "1970-01-05T14:20:00",
           "1970-01-05T15:05:00",
           "Manicure",
           45,
           "Alice",
           3
          ],
          [
           "Wednesday",
           "1970-01-05T12:10:00",
           "1970-01-05T12:50:00",
           "Haircut",
           40,
           "Charlie",
           2
          ],
          [
           "Tuesday",
           "1970-01-05T12:10:00",
           "1970-01-05T12:55:00",
           "Manicure",
           45,
           "Charlie",
           1
          ],
          [
           "Thursday",
           "1970-01-05T15:20:00",
           "1970-01-05T16:00:00",
           "Haircut",
           40,
           "Charlie",
           3
          ],
          [
           "Monday",
           "1970-01-05T11:30:00",
           "1970-01-05T12:05:00",
           "Pedicure",
           35,
           "Charlie",
           0
          ],
          [
           "Monday",
           "1970-01-05T14:30:00",
           "1970-01-05T15:05:00",
           "Pedicure",
           35,
           "Bob",
           0
          ],
          [
           "Wednesday",
           "1970-01-05T09:00:00",
           "1970-01-05T09:35:00",
           "Pedicure",
           35,
           "Charlie",
           2
          ],
          [
           "Tuesday",
           "1970-01-05T13:30:00",
           "1970-01-05T14:15:00",
           "Manicure",
           45,
           "Alice",
           1
          ],
          [
           "Monday",
           "1970-01-05T12:30:00",
           "1970-01-05T13:10:00",
           "Haircut",
           40,
           "Alice",
           0
          ],
          [
           "Wednesday",
           "1970-01-05T14:30:00",
           "1970-01-05T15:10:00",
           "Haircut",
           40,
           "Bob",
           2
          ],
          [
           "Friday",
           "1970-01-05T12:40:00",
           "1970-01-05T13:20:00",
           "Haircut",
           40,
           "Charlie",
           4
          ],
          [
           "Thursday",
           "1970-01-05T12:00:00",
           "1970-01-05T12:45:00",
           "Manicure",
           45,
           "Charlie",
           3
          ],
          [
           "Friday",
           "1970-01-05T10:00:00",
           "1970-01-05T10:45:00",
           "Manicure",
           45,
           "Charlie",
           4
          ],
          [
           "Tuesday",
           "1970-01-05T15:20:00",
           "1970-01-05T16:00:00",
           "Haircut",
           40,
           "Bob",
           1
          ],
          [
           "Monday",
           "1970-01-05T13:30:00",
           "1970-01-05T14:10:00",
           "Haircut",
           40,
           "Charlie",
           0
          ],
          [
           "Thursday",
           "1970-01-05T11:00:00",
           "1970-01-05T11:40:00",
           "Haircut",
           40,
           "Alice",
           3
          ],
          [
           "Thursday",
           "1970-01-05T09:00:00",
           "1970-01-05T09:35:00",
           "Pedicure",
           35,
           "Bob",
           3
          ],
          [
           "Thursday",
           "1970-01-05T13:00:00",
           "1970-01-05T13:40:00",
           "Haircut",
           40,
           "Bob",
           3
          ],
          [
           "Monday",
           "1970-01-05T09:30:00",
           "1970-01-05T10:05:00",
           "Pedicure",
           35,
           "Alice",
           0
          ],
          [
           "Tuesday",
           "1970-01-05T09:00:00",
           "1970-01-05T09:35:00",
           "Pedicure",
           35,
           "Bob",
           1
          ],
          [
           "Tuesday",
           "1970-01-05T14:30:00",
           "1970-01-05T15:10:00",
           "Haircut",
           40,
           "Charlie",
           1
          ],
          [
           "Thursday",
           "1970-01-05T10:10:00",
           "1970-01-05T10:45:00",
           "Pedicure",
           35,
           "Charlie",
           3
          ],
          [
           "Wednesday",
           "1970-01-05T10:10:00",
           "1970-01-05T10:55:00",
           "Manicure",
           45,
           "Bob",
           2
          ]
         ],
         "hovertemplate": "start_time:%{customdata[1]}<br>end_time:%{customdata[2]}<br>service_id:%{customdata[3]}<br>client_id:%{customdata[5]}<br>",
         "legendgroup": "Bob, Pedicure",
         "marker": {
          "color": "#EF553B",
          "line": {
           "color": "black",
           "width": 1
          },
          "pattern": {
           "shape": "\\"
          }
         },
         "name": "Bob, Pedicure",
         "orientation": "h",
         "showlegend": true,
         "text": [
          "Bob",
          "Bob",
          "Bob"
         ],
         "textposition": "inside",
         "type": "bar",
         "x": {
          "bdata": "IAsgACALIAAgCyAA",
          "dtype": "i4"
         },
         "xaxis": "x",
         "y": {
          "bdata": "AAMB",
          "dtype": "i1"
         },
         "yaxis": "y"
        },
        {
         "base": [
          "1970-01-05T12:10:00.000000000",
          "1970-01-05T12:00:00.000000000",
          "1970-01-05T10:00:00.000000000"
         ],
         "customdata": [
          [
           "Wednesday",
           "1970-01-05T11:10:00",
           "1970-01-05T11:55:00",
           "Manicure",
           45,
           "Alice",
           2
          ],
          [
           "Friday",
           "1970-01-05T11:30:00",
           "1970-01-05T12:15:00",
           "Manicure",
           45,
           "Bob",
           4
          ],
          [
           "Thursday",
           "1970-01-05T14:20:00",
           "1970-01-05T15:05:00",
           "Manicure",
           45,
           "Alice",
           3
          ],
          [
           "Wednesday",
           "1970-01-05T12:10:00",
           "1970-01-05T12:50:00",
           "Haircut",
           40,
           "Charlie",
           2
          ],
          [
           "Tuesday",
           "1970-01-05T12:10:00",
           "1970-01-05T12:55:00",
           "Manicure",
           45,
           "Charlie",
           1
          ],
          [
           "Thursday",
           "1970-01-05T15:20:00",
           "1970-01-05T16:00:00",
           "Haircut",
           40,
           "Charlie",
           3
          ],
          [
           "Monday",
           "1970-01-05T11:30:00",
           "1970-01-05T12:05:00",
           "Pedicure",
           35,
           "Charlie",
           0
          ],
          [
           "Monday",
           "1970-01-05T14:30:00",
           "1970-01-05T15:05:00",
           "Pedicure",
           35,
           "Bob",
           0
          ],
          [
           "Wednesday",
           "1970-01-05T09:00:00",
           "1970-01-05T09:35:00",
           "Pedicure",
           35,
           "Charlie",
           2
          ],
          [
           "Tuesday",
           "1970-01-05T13:30:00",
           "1970-01-05T14:15:00",
           "Manicure",
           45,
           "Alice",
           1
          ],
          [
           "Monday",
           "1970-01-05T12:30:00",
           "1970-01-05T13:10:00",
           "Haircut",
           40,
           "Alice",
           0
          ],
          [
           "Wednesday",
           "1970-01-05T14:30:00",
           "1970-01-05T15:10:00",
           "Haircut",
           40,
           "Bob",
           2
          ],
          [
           "Friday",
           "1970-01-05T12:40:00",
           "1970-01-05T13:20:00",
           "Haircut",
           40,
           "Charlie",
           4
          ],
          [
           "Thursday",
           "1970-01-05T12:00:00",
           "1970-01-05T12:45:00",
           "Manicure",
           45,
           "Charlie",
           3
          ],
          [
           "Friday",
           "1970-01-05T10:00:00",
           "1970-01-05T10:45:00",
           "Manicure",
           45,
           "Charlie",
           4
          ],
          [
           "Tuesday",
           "1970-01-05T15:20:00",
           "1970-01-05T16:00:00",
           "Haircut",
           40,
           "Bob",
           1
          ],
          [
           "Monday",
           "1970-01-05T13:30:00",
           "1970-01-05T14:10:00",
           "Haircut",
           40,
           "Charlie",
           0
          ],
          [
           "Thursday",
           "1970-01-05T11:00:00",
           "1970-01-05T11:40:00",
           "Haircut",
           40,
           "Alice",
           3
          ],
          [
           "Thursday",
           "1970-01-05T09:00:00",
           "1970-01-05T09:35:00",
           "Pedicure",
           35,
           "Bob",
           3
          ],
          [
           "Thursday",
           "1970-01-05T13:00:00",
           "1970-01-05T13:40:00",
           "Haircut",
           40,
           "Bob",
           3
          ],
          [
           "Monday",
           "1970-01-05T09:30:00",
           "1970-01-05T10:05:00",
           "Pedicure",
           35,
           "Alice",
           0
          ],
          [
           "Tuesday",
           "1970-01-05T09:00:00",
           "1970-01-05T09:35:00",
           "Pedicure",
           35,
           "Bob",
           1
          ],
          [
           "Tuesday",
           "1970-01-05T14:30:00",
           "1970-01-05T15:10:00",
           "Haircut",
           40,
           "Charlie",
           1
          ],
          [
           "Thursday",
           "1970-01-05T10:10:00",
           "1970-01-05T10:45:00",
           "Pedicure",
           35,
           "Charlie",
           3
          ],
          [
           "Wednesday",
           "1970-01-05T10:10:00",
           "1970-01-05T10:55:00",
           "Manicure",
           45,
           "Bob",
           2
          ]
         ],
         "hovertemplate": "start_time:%{customdata[1]}<br>end_time:%{customdata[2]}<br>service_id:%{customdata[3]}<br>client_id:%{customdata[5]}<br>",
         "legendgroup": "Charlie, Manicure",
         "marker": {
          "color": "#00cc96",
          "line": {
           "color": "black",
           "width": 1
          },
          "pattern": {
           "shape": ""
          }
         },
         "name": "Charlie, Manicure",
         "orientation": "h",
         "showlegend": true,
         "text": [
          "Charlie",
          "Charlie",
          "Charlie"
         ],
         "textposition": "inside",
         "type": "bar",
         "x": {
          "bdata": "4DIpAOAyKQDgMikA",
          "dtype": "i4"
         },
         "xaxis": "x",
         "y": {
          "bdata": "AQME",
          "dtype": "i1"
         },
         "yaxis": "y"
        },
        {
         "base": [
          "1970-01-05T12:10:00.000000000",
          "1970-01-05T15:20:00.000000000",
          "1970-01-05T12:40:00.000000000",
          "1970-01-05T13:30:00.000000000",
          "1970-01-05T14:30:00.000000000"
         ],
         "customdata": [
          [
           "Wednesday",
           "1970-01-05T11:10:00",
           "1970-01-05T11:55:00",
           "Manicure",
           45,
           "Alice",
           2
          ],
          [
           "Friday",
           "1970-01-05T11:30:00",
           "1970-01-05T12:15:00",
           "Manicure",
           45,
           "Bob",
           4
          ],
          [
           "Thursday",
           "1970-01-05T14:20:00",
           "1970-01-05T15:05:00",
           "Manicure",
           45,
           "Alice",
           3
          ],
          [
           "Wednesday",
           "1970-01-05T12:10:00",
           "1970-01-05T12:50:00",
           "Haircut",
           40,
           "Charlie",
           2
          ],
          [
           "Tuesday",
           "1970-01-05T12:10:00",
           "1970-01-05T12:55:00",
           "Manicure",
           45,
           "Charlie",
           1
          ],
          [
           "Thursday",
           "1970-01-05T15:20:00",
           "1970-01-05T16:00:00",
           "Haircut",
           40,
           "Charlie",
           3
          ],
          [
           "Monday",
           "1970-01-05T11:30:00",
           "1970-01-05T12:05:00",
           "Pedicure",
           35,
           "Charlie",
           0
          ],
          [
           "Monday",
           "1970-01-05T14:30:00",
           "1970-01-05T15:05:00",
           "Pedicure",
           35,
           "Bob",
           0
          ],
          [
           "Wednesday",
           "1970-01-05T09:00:00",
           "1970-01-05T09:35:00",
           "Pedicure",
           35,
           "Charlie",
           2
          ],
          [
           "Tuesday",
           "1970-01-05T13:30:00",
           "1970-01-05T14:15:00",
           "Manicure",
           45,
           "Alice",
           1
          ],
          [
           "Monday",
           "1970-01-05T12:30:00",
           "1970-01-05T13:10:00",
           "Haircut",
           40,
           "Alice",
           0
          ],
          [
           "Wednesday",
           "1970-01-05T14:30:00",
           "1970-01-05T15:10:00",
           "Haircut",
           40,
           "Bob",
           2
          ],
          [
           "Friday",
           "1970-01-05T12:40:00",
           "1970-01-05T13:20:00",
           "Haircut",
           40,
           "Charlie",
           4
          ],
          [
           "Thursday",
           "1970-01-05T12:00:00",
           "1970-01-05T12:45:00",
           "Manicure",
           45,
           "Charlie",
           3
          ],
          [
           "Friday",
           "1970-01-05T10:00:00",
           "1970-01-05T10:45:00",
           "Manicure",
           45,
           "Charlie",
           4
          ],
          [
           "Tuesday",
           "1970-01-05T15:20:00",
           "1970-01-05T16:00:00",
           "Haircut",
           40,
           "Bob",
           1
          ],
          [
           "Monday",
           "1970-01-05T13:30:00",
           "1970-01-05T14:10:00",
           "Haircut",
           40,
           "Charlie",
           0
          ],
          [
           "Thursday",
           "1970-01-05T11:00:00",
           "1970-01-05T11:40:00",
           "Haircut",
           40,
           "Alice",
           3
          ],
          [
           "Thursday",
           "1970-01-05T09:00:00",
           "1970-01-05T09:35:00",
           "Pedicure",
           35,
           "Bob",
           3
          ],
          [
           "Thursday",
           "1970-01-05T13:00:00",
           "1970-01-05T13:40:00",
           "Haircut",
           40,
           "Bob",
           3
          ],
          [
           "Monday",
           "1970-01-05T09:30:00",
           "1970-01-05T10:05:00",
           "Pedicure",
           35,
           "Alice",
           0
          ],
          [
           "Tuesday",
           "1970-01-05T09:00:00",
           "1970-01-05T09:35:00",
           "Pedicure",
           35,
           "Bob",
           1
          ],
          [
           "Tuesday",
           "1970-01-05T14:30:00",
           "1970-01-05T15:10:00",
           "Haircut",
           40,
           "Charlie",
           1
          ],
          [
           "Thursday",
           "1970-01-05T10:10:00",
           "1970-01-05T10:45:00",
           "Pedicure",
           35,
           "Charlie",
           3
          ],
          [
           "Wednesday",
           "1970-01-05T10:10:00",
           "1970-01-05T10:55:00",
           "Manicure",
           45,
           "Bob",
           2
          ]
         ],
         "hovertemplate": "start_time:%{customdata[1]}<br>end_time:%{customdata[2]}<br>service_id:%{customdata[3]}<br>client_id:%{customdata[5]}<br>",
         "legendgroup": "Charlie, Haircut",
         "marker": {
          "color": "#00cc96",
          "line": {
           "color": "black",
           "width": 1
          },
          "pattern": {
           "shape": "/"
          }
         },
         "name": "Charlie, Haircut",
         "orientation": "h",
         "showlegend": true,
         "text": [
          "Charlie",
          "Charlie",
          "Charlie",
          "Charlie",
          "Charlie"
         ],
         "textposition": "inside",
         "type": "bar",
         "x": {
          "bdata": "AJ8kAACfJAAAnyQAAJ8kAACfJAA=",
          "dtype": "i4"
         },
         "xaxis": "x",
         "y": {
          "bdata": "AgMEAAE=",
          "dtype": "i1"
         },
         "yaxis": "y"
        },
        {
         "base": [
          "1970-01-05T11:30:00.000000000",
          "1970-01-05T09:00:00.000000000",
          "1970-01-05T10:10:00.000000000"
         ],
         "customdata": [
          [
           "Wednesday",
           "1970-01-05T11:10:00",
           "1970-01-05T11:55:00",
           "Manicure",
           45,
           "Alice",
           2
          ],
          [
           "Friday",
           "1970-01-05T11:30:00",
           "1970-01-05T12:15:00",
           "Manicure",
           45,
           "Bob",
           4
          ],
          [
           "Thursday",
           "1970-01-05T14:20:00",
           "1970-01-05T15:05:00",
           "Manicure",
           45,
           "Alice",
           3
          ],
          [
           "Wednesday",
           "1970-01-05T12:10:00",
           "1970-01-05T12:50:00",
           "Haircut",
           40,
           "Charlie",
           2
          ],
          [
           "Tuesday",
           "1970-01-05T12:10:00",
           "1970-01-05T12:55:00",
           "Manicure",
           45,
           "Charlie",
           1
          ],
          [
           "Thursday",
           "1970-01-05T15:20:00",
           "1970-01-05T16:00:00",
           "Haircut",
           40,
           "Charlie",
           3
          ],
          [
           "Monday",
           "1970-01-05T11:30:00",
           "1970-01-05T12:05:00",
           "Pedicure",
           35,
           "Charlie",
           0
          ],
          [
           "Monday",
           "1970-01-05T14:30:00",
           "1970-01-05T15:05:00",
           "Pedicure",
           35,
           "Bob",
           0
          ],
          [
           "Wednesday",
           "1970-01-05T09:00:00",
           "1970-01-05T09:35:00",
           "Pedicure",
           35,
           "Charlie",
           2
          ],
          [
           "Tuesday",
           "1970-01-05T13:30:00",
           "1970-01-05T14:15:00",
           "Manicure",
           45,
           "Alice",
           1
          ],
          [
           "Monday",
           "1970-01-05T12:30:00",
           "1970-01-05T13:10:00",
           "Haircut",
           40,
           "Alice",
           0
          ],
          [
           "Wednesday",
           "1970-01-05T14:30:00",
           "1970-01-05T15:10:00",
           "Haircut",
           40,
           "Bob",
           2
          ],
          [
           "Friday",
           "1970-01-05T12:40:00",
           "1970-01-05T13:20:00",
           "Haircut",
           40,
           "Charlie",
           4
          ],
          [
           "Thursday",
           "1970-01-05T12:00:00",
           "1970-01-05T12:45:00",
           "Manicure",
           45,
           "Charlie",
           3
          ],
          [
           "Friday",
           "1970-01-05T10:00:00",
           "1970-01-05T10:45:00",
           "Manicure",
           45,
           "Charlie",
           4
          ],
          [
           "Tuesday",
           "1970-01-05T15:20:00",
           "1970-01-05T16:00:00",
           "Haircut",
           40,
           "Bob",
           1
          ],
          [
           "Monday",
           "1970-01-05T13:30:00",
           "1970-01-05T14:10:00",
           "Haircut",
           40,
           "Charlie",
           0
          ],
          [
           "Thursday",
           "1970-01-05T11:00:00",
           "1970-01-05T11:40:00",
           "Haircut",
           40,
           "Alice",
           3
          ],
          [
           "Thursday",
           "1970-01-05T09:00:00",
           "1970-01-05T09:35:00",
           "Pedicure",
           35,
           "Bob",
           3
          ],
          [
           "Thursday",
           "1970-01-05T13:00:00",
           "1970-01-05T13:40:00",
           "Haircut",
           40,
           "Bob",
           3
          ],
          [
           "Monday",
           "1970-01-05T09:30:00",
           "1970-01-05T10:05:00",
           "Pedicure",
           35,
           "Alice",
           0
          ],
          [
           "Tuesday",
           "1970-01-05T09:00:00",
           "1970-01-05T09:35:00",
           "Pedicure",
           35,
           "Bob",
           1
          ],
          [
           "Tuesday",
           "1970-01-05T14:30:00",
           "1970-01-05T15:10:00",
           "Haircut",
           40,
           "Charlie",
           1
          ],
          [
           "Thursday",
           "1970-01-05T10:10:00",
           "1970-01-05T10:45:00",
           "Pedicure",
           35,
           "Charlie",
           3
          ],
          [
           "Wednesday",
           "1970-01-05T10:10:00",
           "1970-01-05T10:55:00",
           "Manicure",
           45,
           "Bob",
           2
          ]
         ],
         "hovertemplate": "start_time:%{customdata[1]}<br>end_time:%{customdata[2]}<br>service_id:%{customdata[3]}<br>client_id:%{customdata[5]}<br>",
         "legendgroup": "Charlie, Pedicure",
         "marker": {
          "color": "#00cc96",
          "line": {
           "color": "black",
           "width": 1
          },
          "pattern": {
           "shape": "\\"
          }
         },
         "name": "Charlie, Pedicure",
         "orientation": "h",
         "showlegend": true,
         "text": [
          "Charlie",
          "Charlie",
          "Charlie"
         ],
         "textposition": "inside",
         "type": "bar",
         "x": {
          "bdata": "IAsgACALIAAgCyAA",
          "dtype": "i4"
         },
         "xaxis": "x",
         "y": {
          "bdata": "AAID",
          "dtype": "i1"
         },
         "yaxis": "y"
        },
        {
         "hovertemplate": "<b>Current Time<br>Day:</b>%{y}<br><b>Time:</b> %{x|%H:%M}<extra></extra>",
         "marker": {
          "color": "red",
          "size": 12,
          "symbol": "circle"
         },
         "mode": "markers",
         "name": "Current Time",
         "type": "scatter",
         "x": [
          407820000
         ],
         "y": [
          "Monday"
         ]
        }
       ],
       "layout": {
        "barmode": "overlay",
        "coloraxis": {
         "showscale": false
        },
        "legend": {
         "title": {
          "text": "client_id, service_id"
         },
         "tracegroupgap": 0
        },
        "shapes": [
         {
          "line": {
           "color": "red",
           "width": 3
          },
          "type": "line",
          "x0": 407820000,
          "x1": 407820000,
          "y0": 3.5,
          "y1": 4.5
         }
        ],
        "template": {
         "data": {
          "bar": [
           {
            "error_x": {
             "color": "#2a3f5f"
            },
            "error_y": {
             "color": "#2a3f5f"
            },
            "marker": {
             "line": {
              "color": "#E5ECF6",
              "width": 0.5
             },
             "pattern": {
              "fillmode": "overlay",
              "size": 10,
              "solidity": 0.2
             }
            },
            "type": "bar"
           }
          ],
          "barpolar": [
           {
            "marker": {
             "line": {
              "color": "#E5ECF6",
              "width": 0.5
             },
             "pattern": {
              "fillmode": "overlay",
              "size": 10,
              "solidity": 0.2
             }
            },
            "type": "barpolar"
           }
          ],
          "carpet": [
           {
            "aaxis": {
             "endlinecolor": "#2a3f5f",
             "gridcolor": "white",
             "linecolor": "white",
             "minorgridcolor": "white",
             "startlinecolor": "#2a3f5f"
            },
            "baxis": {
             "endlinecolor": "#2a3f5f",
             "gridcolor": "white",
             "linecolor": "white",
             "minorgridcolor": "white",
             "startlinecolor": "#2a3f5f"
            },
            "type": "carpet"
           }
          ],
          "choropleth": [
           {
            "colorbar": {
             "outlinewidth": 0,
             "ticks": ""
            },
            "type": "choropleth"
           }
          ],
          "contour": [
           {
            "colorbar": {
             "outlinewidth": 0,
             "ticks": ""
            },
            "colorscale": [
             [
              0,
              "#0d0887"
             ],
             [
              0.1111111111111111,
              "#46039f"
             ],
             [
              0.2222222222222222,
              "#7201a8"
             ],
             [
              0.3333333333333333,
              "#9c179e"
             ],
             [
              0.4444444444444444,
              "#bd3786"
             ],
             [
              0.5555555555555556,
              "#d8576b"
             ],
             [
              0.6666666666666666,
              "#ed7953"
             ],
             [
              0.7777777777777778,
              "#fb9f3a"
             ],
             [
              0.8888888888888888,
              "#fdca26"
             ],
             [
              1,
              "#f0f921"
             ]
            ],
            "type": "contour"
           }
          ],
          "contourcarpet": [
           {
            "colorbar": {
             "outlinewidth": 0,
             "ticks": ""
            },
            "type": "contourcarpet"
           }
          ],
          "heatmap": [
           {
            "colorbar": {
             "outlinewidth": 0,
             "ticks": ""
            },
            "colorscale": [
             [
              0,
              "#0d0887"
             ],
             [
              0.1111111111111111,
              "#46039f"
             ],
             [
              0.2222222222222222,
              "#7201a8"
             ],
             [
              0.3333333333333333,
              "#9c179e"
             ],
             [
              0.4444444444444444,
              "#bd3786"
             ],
             [
              0.5555555555555556,
              "#d8576b"
             ],
             [
              0.6666666666666666,
              "#ed7953"
             ],
             [
              0.7777777777777778,
              "#fb9f3a"
             ],
             [
              0.8888888888888888,
              "#fdca26"
             ],
             [
              1,
              "#f0f921"
             ]
            ],
            "type": "heatmap"
           }
          ],
          "histogram": [
           {
            "marker": {
             "pattern": {
              "fillmode": "overlay",
              "size": 10,
              "solidity": 0.2
             }
            },
            "type": "histogram"
           }
          ],
          "histogram2d": [
           {
            "colorbar": {
             "outlinewidth": 0,
             "ticks": ""
            },
            "colorscale": [
             [
              0,
              "#0d0887"
             ],
             [
              0.1111111111111111,
              "#46039f"
             ],
             [
              0.2222222222222222,
              "#7201a8"
             ],
             [
              0.3333333333333333,
              "#9c179e"
             ],
             [
              0.4444444444444444,
              "#bd3786"
             ],
             [
              0.5555555555555556,
              "#d8576b"
             ],
             [
              0.6666666666666666,
              "#ed7953"
             ],
             [
              0.7777777777777778,
              "#fb9f3a"
             ],
             [
              0.8888888888888888,
              "#fdca26"
             ],
             [
              1,
              "#f0f921"
             ]
            ],
            "type": "histogram2d"
           }
          ],
          "histogram2dcontour": [
           {
            "colorbar": {
             "outlinewidth": 0,
             "ticks": ""
            },
            "colorscale": [
             [
              0,
              "#0d0887"
             ],
             [
              0.1111111111111111,
              "#46039f"
             ],
             [
              0.2222222222222222,
              "#7201a8"
             ],
             [
              0.3333333333333333,
              "#9c179e"
             ],
             [
              0.4444444444444444,
              "#bd3786"
             ],
             [
              0.5555555555555556,
              "#d8576b"
             ],
             [
              0.6666666666666666,
              "#ed7953"
             ],
             [
              0.7777777777777778,
              "#fb9f3a"
             ],
             [
              0.8888888888888888,
              "#fdca26"
             ],
             [
              1,
              "#f0f921"
             ]
            ],
            "type": "histogram2dcontour"
           }
          ],
          "mesh3d": [
           {
            "colorbar": {
             "outlinewidth": 0,
             "ticks": ""
            },
            "type": "mesh3d"
           }
          ],
          "parcoords": [
           {
            "line": {
             "colorbar": {
              "outlinewidth": 0,
              "ticks": ""
             }
            },
            "type": "parcoords"
           }
          ],
          "pie": [
           {
            "automargin": true,
            "type": "pie"
           }
          ],
          "scatter": [
           {
            "fillpattern": {
             "fillmode": "overlay",
             "size": 10,
             "solidity": 0.2
            },
            "type": "scatter"
           }
          ],
          "scatter3d": [
           {
            "line": {
             "colorbar": {
              "outlinewidth": 0,
              "ticks": ""
             }
            },
            "marker": {
             "colorbar": {
              "outlinewidth": 0,
              "ticks": ""
             }
            },
            "type": "scatter3d"
           }
          ],
          "scattercarpet": [
           {
            "marker": {
             "colorbar": {
              "outlinewidth": 0,
              "ticks": ""
             }
            },
            "type": "scattercarpet"
           }
          ],
          "scattergeo": [
           {
            "marker": {
             "colorbar": {
              "outlinewidth": 0,
              "ticks": ""
             }
            },
            "type": "scattergeo"
           }
          ],
          "scattergl": [
           {
            "marker": {
             "colorbar": {
              "outlinewidth": 0,
              "ticks": ""
             }
            },
            "type": "scattergl"
           }
          ],
          "scattermap": [
           {
            "marker": {
             "colorbar": {
              "outlinewidth": 0,
              "ticks": ""
             }
            },
            "type": "scattermap"
           }
          ],
          "scattermapbox": [
           {
            "marker": {
             "colorbar": {
              "outlinewidth": 0,
              "ticks": ""
             }
            },
            "type": "scattermapbox"
           }
          ],
          "scatterpolar": [
           {
            "marker": {
             "colorbar": {
              "outlinewidth": 0,
              "ticks": ""
             }
            },
            "type": "scatterpolar"
           }
          ],
          "scatterpolargl": [
           {
            "marker": {
             "colorbar": {
              "outlinewidth": 0,
              "ticks": ""
             }
            },
            "type": "scatterpolargl"
           }
          ],
          "scatterternary": [
           {
            "marker": {
             "colorbar": {
              "outlinewidth": 0,
              "ticks": ""
             }
            },
            "type": "scatterternary"
           }
          ],
          "surface": [
           {
            "colorbar": {
             "outlinewidth": 0,
             "ticks": ""
            },
            "colorscale": [
             [
              0,
              "#0d0887"
             ],
             [
              0.1111111111111111,
              "#46039f"
             ],
             [
              0.2222222222222222,
              "#7201a8"
             ],
             [
              0.3333333333333333,
              "#9c179e"
             ],
             [
              0.4444444444444444,
              "#bd3786"
             ],
             [
              0.5555555555555556,
              "#d8576b"
             ],
             [
              0.6666666666666666,
              "#ed7953"
             ],
             [
              0.7777777777777778,
              "#fb9f3a"
             ],
             [
              0.8888888888888888,
              "#fdca26"
             ],
             [
              1,
              "#f0f921"
             ]
            ],
            "type": "surface"
           }
          ],
          "table": [
           {
            "cells": {
             "fill": {
              "color": "#EBF0F8"
             },
             "line": {
              "color": "white"
             }
            },
            "header": {
             "fill": {
              "color": "#C8D4E3"
             },
             "line": {
              "color": "white"
             }
            },
            "type": "table"
           }
          ]
         },
         "layout": {
          "annotationdefaults": {
           "arrowcolor": "#2a3f5f",
           "arrowhead": 0,
           "arrowwidth": 1
          },
          "autotypenumbers": "strict",
          "coloraxis": {
           "colorbar": {
            "outlinewidth": 0,
            "ticks": ""
           }
          },
          "colorscale": {
           "diverging": [
            [
             0,
             "#8e0152"
            ],
            [
             0.1,
             "#c51b7d"
            ],
            [
             0.2,
             "#de77ae"
            ],
            [
             0.3,
             "#f1b6da"
            ],
            [
             0.4,
             "#fde0ef"
            ],
            [
             0.5,
             "#f7f7f7"
            ],
            [
             0.6,
             "#e6f5d0"
            ],
            [
             0.7,
             "#b8e186"
            ],
            [
             0.8,
             "#7fbc41"
            ],
            [
             0.9,
             "#4d9221"
            ],
            [
             1,
             "#276419"
            ]
           ],
           "sequential": [
            [
             0,
             "#0d0887"
            ],
            [
             0.1111111111111111,
             "#46039f"
            ],
            [
             0.2222222222222222,
             "#7201a8"
            ],
            [
             0.3333333333333333,
             "#9c179e"
            ],
            [
             0.4444444444444444,
             "#bd3786"
            ],
            [
             0.5555555555555556,
             "#d8576b"
            ],
            [
             0.6666666666666666,
             "#ed7953"
            ],
            [
             0.7777777777777778,
             "#fb9f3a"
            ],
            [
             0.8888888888888888,
             "#fdca26"
            ],
            [
             1,
             "#f0f921"
            ]
           ],
           "sequentialminus": [
            [
             0,
             "#0d0887"
            ],
            [
             0.1111111111111111,
             "#46039f"
            ],
            [
             0.2222222222222222,
             "#7201a8"
            ],
            [
             0.3333333333333333,
             "#9c179e"
            ],
            [
             0.4444444444444444,
             "#bd3786"
            ],
            [
             0.5555555555555556,
             "#d8576b"
            ],
            [
             0.6666666666666666,
             "#ed7953"
            ],
            [
             0.7777777777777778,
             "#fb9f3a"
            ],
            [
             0.8888888888888888,
             "#fdca26"
            ],
            [
             1,
             "#f0f921"
            ]
           ]
          },
          "colorway": [
           "#636efa",
           "#EF553B",
           "#00cc96",
           "#ab63fa",
           "#FFA15A",
           "#19d3f3",
           "#FF6692",
           "#B6E880",
           "#FF97FF",
           "#FECB52"
          ],
          "font": {
           "color": "#2a3f5f"
          },
          "geo": {
           "bgcolor": "white",
           "lakecolor": "white",
           "landcolor": "#E5ECF6",
           "showlakes": true,
           "showland": true,
           "subunitcolor": "white"
          },
          "hoverlabel": {
           "align": "left"
          },
          "hovermode": "closest",
          "mapbox": {
           "style": "light"
          },
          "paper_bgcolor": "white",
          "plot_bgcolor": "#E5ECF6",
          "polar": {
           "angularaxis": {
            "gridcolor": "white",
            "linecolor": "white",
            "ticks": ""
           },
           "bgcolor": "#E5ECF6",
           "radialaxis": {
            "gridcolor": "white",
            "linecolor": "white",
            "ticks": ""
           }
          },
          "scene": {
           "xaxis": {
            "backgroundcolor": "#E5ECF6",
            "gridcolor": "white",
            "gridwidth": 2,
            "linecolor": "white",
            "showbackground": true,
            "ticks": "",
            "zerolinecolor": "white"
           },
           "yaxis": {
            "backgroundcolor": "#E5ECF6",
            "gridcolor": "white",
            "gridwidth": 2,
            "linecolor": "white",
            "showbackground": true,
            "ticks": "",
            "zerolinecolor": "white"
           },
           "zaxis": {
            "backgroundcolor": "#E5ECF6",
            "gridcolor": "white",
            "gridwidth": 2,
            "linecolor": "white",
            "showbackground": true,
            "ticks": "",
            "zerolinecolor": "white"
           }
          },
          "shapedefaults": {
           "line": {
            "color": "#2a3f5f"
           }
          },
          "ternary": {
           "aaxis": {
            "gridcolor": "white",
            "linecolor": "white",
            "ticks": ""
           },
           "baxis": {
            "gridcolor": "white",
            "linecolor": "white",
            "ticks": ""
           },
           "bgcolor": "#E5ECF6",
           "caxis": {
            "gridcolor": "white",
            "linecolor": "white",
            "ticks": ""
           }
          },
          "title": {
           "x": 0.05
          },
          "xaxis": {
           "automargin": true,
           "gridcolor": "white",
           "linecolor": "white",
           "ticks": "",
           "title": {
            "standoff": 15
           },
           "zerolinecolor": "white",
           "zerolinewidth": 2
          },
          "yaxis": {
           "automargin": true,
           "gridcolor": "white",
           "linecolor": "white",
           "ticks": "",
           "title": {
            "standoff": 15
           },
           "zerolinecolor": "white",
           "zerolinewidth": 2
          }
         }
        },
        "title": {
         "text": "Client Appointments Schedule"
        },
        "xaxis": {
         "anchor": "y",
         "domain": [
          0,
          1
         ],
         "type": "date"
        },
        "yaxis": {
         "anchor": "x",
         "domain": [
          0,
          1
         ],
         "title": {
          "text": "day_order"
         }
        }
       }
      }
     },
     "metadata": {},
     "output_type": "display_data"
    }
   ],
   "source": [
    "shedule_plot(pd.DataFrame(appointments), 'Monday 10:17')"
   ]
  },
  {
   "cell_type": "code",
   "execution_count": null,
   "metadata": {},
   "outputs": [],
   "source": []
  },
  {
   "cell_type": "code",
   "execution_count": 209,
   "metadata": {},
   "outputs": [
    {
     "name": "stdout",
     "output_type": "stream",
     "text": [
      "5\n"
     ]
    },
    {
     "data": {
      "application/vnd.plotly.v1+json": {
       "config": {
        "plotlyServerURL": "https://plot.ly"
       },
       "data": [
        {
         "fill": "toself",
         "fillpattern": {
          "shape": "/"
         },
         "hoverinfo": "skip",
         "line": {
          "color": "blue",
          "width": 2
         },
         "mode": "lines",
         "type": "scatter",
         "x": [
          "1900-01-01T09:00:00",
          "1900-01-01T10:00:00",
          "1900-01-01T10:00:00",
          "1900-01-01T09:00:00",
          "1900-01-01T09:00:00"
         ],
         "y": [
          4.54,
          4.54,
          5.46,
          5.46,
          4.54
         ]
        },
        {
         "hoverinfo": "skip",
         "mode": "text",
         "showlegend": false,
         "text": [
          "<b>  Alice - Pedicure<br>  (09:00-10:00)</b>"
         ],
         "textposition": "middle right",
         "type": "scatter",
         "x": [
          "1900-01-01T09:00:00",
          "1900-01-01T10:00:00"
         ],
         "y": [
          5,
          5
         ]
        },
        {
         "fill": "toself",
         "fillpattern": {
          "shape": "\\"
         },
         "hoverinfo": "skip",
         "line": {
          "color": "purple",
          "width": 2
         },
         "mode": "lines",
         "type": "scatter",
         "x": [
          "1900-01-01T09:30:00",
          "1900-01-01T10:30:00",
          "1900-01-01T10:30:00",
          "1900-01-01T09:30:00",
          "1900-01-01T09:30:00"
         ],
         "y": [
          3.54,
          3.54,
          4.46,
          4.46,
          3.54
         ]
        },
        {
         "hoverinfo": "skip",
         "mode": "text",
         "showlegend": false,
         "text": [
          "<b>  Bob - Manicure<br>  (09:30-10:30)</b>"
         ],
         "textposition": "middle right",
         "type": "scatter",
         "x": [
          "1900-01-01T09:30:00",
          "1900-01-01T10:30:00"
         ],
         "y": [
          4,
          4
         ]
        },
        {
         "fill": "toself",
         "fillpattern": {
          "shape": "x"
         },
         "hoverinfo": "skip",
         "line": {
          "color": "blue",
          "width": 2
         },
         "mode": "lines",
         "type": "scatter",
         "x": [
          "1900-01-01T11:00:00",
          "1900-01-01T12:00:00",
          "1900-01-01T12:00:00",
          "1900-01-01T11:00:00",
          "1900-01-01T11:00:00"
         ],
         "y": [
          2.54,
          2.54,
          3.46,
          3.46,
          2.54
         ]
        },
        {
         "hoverinfo": "skip",
         "mode": "text",
         "showlegend": false,
         "text": [
          "<b>  Alice - Haircut<br>  (11:00-12:00)</b>"
         ],
         "textposition": "middle right",
         "type": "scatter",
         "x": [
          "1900-01-01T11:00:00",
          "1900-01-01T12:00:00"
         ],
         "y": [
          3,
          3
         ]
        },
        {
         "fill": "toself",
         "fillpattern": {
          "shape": "/"
         },
         "hoverinfo": "skip",
         "line": {
          "color": "green",
          "width": 2
         },
         "mode": "lines",
         "type": "scatter",
         "x": [
          "1900-01-01T13:15:00",
          "1900-01-01T14:00:00",
          "1900-01-01T14:00:00",
          "1900-01-01T13:15:00",
          "1900-01-01T13:15:00"
         ],
         "y": [
          1.54,
          1.54,
          2.46,
          2.46,
          1.54
         ]
        },
        {
         "hoverinfo": "skip",
         "mode": "text",
         "showlegend": false,
         "text": [
          "<b>  Charlie - Pedicure<br>  (13:15-14:00)</b>"
         ],
         "textposition": "middle right",
         "type": "scatter",
         "x": [
          "1900-01-01T13:15:00",
          "1900-01-01T14:00:00"
         ],
         "y": [
          2,
          2
         ]
        },
        {
         "fill": "toself",
         "fillpattern": {
          "shape": "\\"
         },
         "hoverinfo": "skip",
         "line": {
          "color": "purple",
          "width": 2
         },
         "mode": "lines",
         "type": "scatter",
         "x": [
          "1900-01-01T15:15:00",
          "1900-01-01T16:00:00",
          "1900-01-01T16:00:00",
          "1900-01-01T15:15:00",
          "1900-01-01T15:15:00"
         ],
         "y": [
          0.54,
          0.54,
          1.46,
          1.46,
          0.54
         ]
        },
        {
         "hoverinfo": "skip",
         "mode": "text",
         "showlegend": false,
         "text": [
          "<b>  Mark - Manicure<br>  (15:15-16:00)</b>"
         ],
         "textposition": "middle right",
         "type": "scatter",
         "x": [
          "1900-01-01T15:15:00",
          "1900-01-01T16:00:00"
         ],
         "y": [
          1,
          1
         ]
        },
        {
         "hovertemplate": "<b>Current Time<br>%{x|%H:%M}",
         "hovertext": "None",
         "marker": {
          "color": "red",
          "size": 10,
          "symbol": "circle"
         },
         "mode": "lines+markers",
         "name": "Current Time",
         "type": "scatter",
         "x": [
          "1900-01-01T09:30:00",
          "1900-01-01T09:30:00"
         ],
         "y": [
          4.52,
          5.48
         ]
        }
       ],
       "layout": {
        "showlegend": false,
        "template": {
         "data": {
          "bar": [
           {
            "error_x": {
             "color": "#2a3f5f"
            },
            "error_y": {
             "color": "#2a3f5f"
            },
            "marker": {
             "line": {
              "color": "#E5ECF6",
              "width": 0.5
             },
             "pattern": {
              "fillmode": "overlay",
              "size": 10,
              "solidity": 0.2
             }
            },
            "type": "bar"
           }
          ],
          "barpolar": [
           {
            "marker": {
             "line": {
              "color": "#E5ECF6",
              "width": 0.5
             },
             "pattern": {
              "fillmode": "overlay",
              "size": 10,
              "solidity": 0.2
             }
            },
            "type": "barpolar"
           }
          ],
          "carpet": [
           {
            "aaxis": {
             "endlinecolor": "#2a3f5f",
             "gridcolor": "white",
             "linecolor": "white",
             "minorgridcolor": "white",
             "startlinecolor": "#2a3f5f"
            },
            "baxis": {
             "endlinecolor": "#2a3f5f",
             "gridcolor": "white",
             "linecolor": "white",
             "minorgridcolor": "white",
             "startlinecolor": "#2a3f5f"
            },
            "type": "carpet"
           }
          ],
          "choropleth": [
           {
            "colorbar": {
             "outlinewidth": 0,
             "ticks": ""
            },
            "type": "choropleth"
           }
          ],
          "contour": [
           {
            "colorbar": {
             "outlinewidth": 0,
             "ticks": ""
            },
            "colorscale": [
             [
              0,
              "#0d0887"
             ],
             [
              0.1111111111111111,
              "#46039f"
             ],
             [
              0.2222222222222222,
              "#7201a8"
             ],
             [
              0.3333333333333333,
              "#9c179e"
             ],
             [
              0.4444444444444444,
              "#bd3786"
             ],
             [
              0.5555555555555556,
              "#d8576b"
             ],
             [
              0.6666666666666666,
              "#ed7953"
             ],
             [
              0.7777777777777778,
              "#fb9f3a"
             ],
             [
              0.8888888888888888,
              "#fdca26"
             ],
             [
              1,
              "#f0f921"
             ]
            ],
            "type": "contour"
           }
          ],
          "contourcarpet": [
           {
            "colorbar": {
             "outlinewidth": 0,
             "ticks": ""
            },
            "type": "contourcarpet"
           }
          ],
          "heatmap": [
           {
            "colorbar": {
             "outlinewidth": 0,
             "ticks": ""
            },
            "colorscale": [
             [
              0,
              "#0d0887"
             ],
             [
              0.1111111111111111,
              "#46039f"
             ],
             [
              0.2222222222222222,
              "#7201a8"
             ],
             [
              0.3333333333333333,
              "#9c179e"
             ],
             [
              0.4444444444444444,
              "#bd3786"
             ],
             [
              0.5555555555555556,
              "#d8576b"
             ],
             [
              0.6666666666666666,
              "#ed7953"
             ],
             [
              0.7777777777777778,
              "#fb9f3a"
             ],
             [
              0.8888888888888888,
              "#fdca26"
             ],
             [
              1,
              "#f0f921"
             ]
            ],
            "type": "heatmap"
           }
          ],
          "histogram": [
           {
            "marker": {
             "pattern": {
              "fillmode": "overlay",
              "size": 10,
              "solidity": 0.2
             }
            },
            "type": "histogram"
           }
          ],
          "histogram2d": [
           {
            "colorbar": {
             "outlinewidth": 0,
             "ticks": ""
            },
            "colorscale": [
             [
              0,
              "#0d0887"
             ],
             [
              0.1111111111111111,
              "#46039f"
             ],
             [
              0.2222222222222222,
              "#7201a8"
             ],
             [
              0.3333333333333333,
              "#9c179e"
             ],
             [
              0.4444444444444444,
              "#bd3786"
             ],
             [
              0.5555555555555556,
              "#d8576b"
             ],
             [
              0.6666666666666666,
              "#ed7953"
             ],
             [
              0.7777777777777778,
              "#fb9f3a"
             ],
             [
              0.8888888888888888,
              "#fdca26"
             ],
             [
              1,
              "#f0f921"
             ]
            ],
            "type": "histogram2d"
           }
          ],
          "histogram2dcontour": [
           {
            "colorbar": {
             "outlinewidth": 0,
             "ticks": ""
            },
            "colorscale": [
             [
              0,
              "#0d0887"
             ],
             [
              0.1111111111111111,
              "#46039f"
             ],
             [
              0.2222222222222222,
              "#7201a8"
             ],
             [
              0.3333333333333333,
              "#9c179e"
             ],
             [
              0.4444444444444444,
              "#bd3786"
             ],
             [
              0.5555555555555556,
              "#d8576b"
             ],
             [
              0.6666666666666666,
              "#ed7953"
             ],
             [
              0.7777777777777778,
              "#fb9f3a"
             ],
             [
              0.8888888888888888,
              "#fdca26"
             ],
             [
              1,
              "#f0f921"
             ]
            ],
            "type": "histogram2dcontour"
           }
          ],
          "mesh3d": [
           {
            "colorbar": {
             "outlinewidth": 0,
             "ticks": ""
            },
            "type": "mesh3d"
           }
          ],
          "parcoords": [
           {
            "line": {
             "colorbar": {
              "outlinewidth": 0,
              "ticks": ""
             }
            },
            "type": "parcoords"
           }
          ],
          "pie": [
           {
            "automargin": true,
            "type": "pie"
           }
          ],
          "scatter": [
           {
            "fillpattern": {
             "fillmode": "overlay",
             "size": 10,
             "solidity": 0.2
            },
            "type": "scatter"
           }
          ],
          "scatter3d": [
           {
            "line": {
             "colorbar": {
              "outlinewidth": 0,
              "ticks": ""
             }
            },
            "marker": {
             "colorbar": {
              "outlinewidth": 0,
              "ticks": ""
             }
            },
            "type": "scatter3d"
           }
          ],
          "scattercarpet": [
           {
            "marker": {
             "colorbar": {
              "outlinewidth": 0,
              "ticks": ""
             }
            },
            "type": "scattercarpet"
           }
          ],
          "scattergeo": [
           {
            "marker": {
             "colorbar": {
              "outlinewidth": 0,
              "ticks": ""
             }
            },
            "type": "scattergeo"
           }
          ],
          "scattergl": [
           {
            "marker": {
             "colorbar": {
              "outlinewidth": 0,
              "ticks": ""
             }
            },
            "type": "scattergl"
           }
          ],
          "scattermap": [
           {
            "marker": {
             "colorbar": {
              "outlinewidth": 0,
              "ticks": ""
             }
            },
            "type": "scattermap"
           }
          ],
          "scattermapbox": [
           {
            "marker": {
             "colorbar": {
              "outlinewidth": 0,
              "ticks": ""
             }
            },
            "type": "scattermapbox"
           }
          ],
          "scatterpolar": [
           {
            "marker": {
             "colorbar": {
              "outlinewidth": 0,
              "ticks": ""
             }
            },
            "type": "scatterpolar"
           }
          ],
          "scatterpolargl": [
           {
            "marker": {
             "colorbar": {
              "outlinewidth": 0,
              "ticks": ""
             }
            },
            "type": "scatterpolargl"
           }
          ],
          "scatterternary": [
           {
            "marker": {
             "colorbar": {
              "outlinewidth": 0,
              "ticks": ""
             }
            },
            "type": "scatterternary"
           }
          ],
          "surface": [
           {
            "colorbar": {
             "outlinewidth": 0,
             "ticks": ""
            },
            "colorscale": [
             [
              0,
              "#0d0887"
             ],
             [
              0.1111111111111111,
              "#46039f"
             ],
             [
              0.2222222222222222,
              "#7201a8"
             ],
             [
              0.3333333333333333,
              "#9c179e"
             ],
             [
              0.4444444444444444,
              "#bd3786"
             ],
             [
              0.5555555555555556,
              "#d8576b"
             ],
             [
              0.6666666666666666,
              "#ed7953"
             ],
             [
              0.7777777777777778,
              "#fb9f3a"
             ],
             [
              0.8888888888888888,
              "#fdca26"
             ],
             [
              1,
              "#f0f921"
             ]
            ],
            "type": "surface"
           }
          ],
          "table": [
           {
            "cells": {
             "fill": {
              "color": "#EBF0F8"
             },
             "line": {
              "color": "white"
             }
            },
            "header": {
             "fill": {
              "color": "#C8D4E3"
             },
             "line": {
              "color": "white"
             }
            },
            "type": "table"
           }
          ]
         },
         "layout": {
          "annotationdefaults": {
           "arrowcolor": "#2a3f5f",
           "arrowhead": 0,
           "arrowwidth": 1
          },
          "autotypenumbers": "strict",
          "coloraxis": {
           "colorbar": {
            "outlinewidth": 0,
            "ticks": ""
           }
          },
          "colorscale": {
           "diverging": [
            [
             0,
             "#8e0152"
            ],
            [
             0.1,
             "#c51b7d"
            ],
            [
             0.2,
             "#de77ae"
            ],
            [
             0.3,
             "#f1b6da"
            ],
            [
             0.4,
             "#fde0ef"
            ],
            [
             0.5,
             "#f7f7f7"
            ],
            [
             0.6,
             "#e6f5d0"
            ],
            [
             0.7,
             "#b8e186"
            ],
            [
             0.8,
             "#7fbc41"
            ],
            [
             0.9,
             "#4d9221"
            ],
            [
             1,
             "#276419"
            ]
           ],
           "sequential": [
            [
             0,
             "#0d0887"
            ],
            [
             0.1111111111111111,
             "#46039f"
            ],
            [
             0.2222222222222222,
             "#7201a8"
            ],
            [
             0.3333333333333333,
             "#9c179e"
            ],
            [
             0.4444444444444444,
             "#bd3786"
            ],
            [
             0.5555555555555556,
             "#d8576b"
            ],
            [
             0.6666666666666666,
             "#ed7953"
            ],
            [
             0.7777777777777778,
             "#fb9f3a"
            ],
            [
             0.8888888888888888,
             "#fdca26"
            ],
            [
             1,
             "#f0f921"
            ]
           ],
           "sequentialminus": [
            [
             0,
             "#0d0887"
            ],
            [
             0.1111111111111111,
             "#46039f"
            ],
            [
             0.2222222222222222,
             "#7201a8"
            ],
            [
             0.3333333333333333,
             "#9c179e"
            ],
            [
             0.4444444444444444,
             "#bd3786"
            ],
            [
             0.5555555555555556,
             "#d8576b"
            ],
            [
             0.6666666666666666,
             "#ed7953"
            ],
            [
             0.7777777777777778,
             "#fb9f3a"
            ],
            [
             0.8888888888888888,
             "#fdca26"
            ],
            [
             1,
             "#f0f921"
            ]
           ]
          },
          "colorway": [
           "#636efa",
           "#EF553B",
           "#00cc96",
           "#ab63fa",
           "#FFA15A",
           "#19d3f3",
           "#FF6692",
           "#B6E880",
           "#FF97FF",
           "#FECB52"
          ],
          "font": {
           "color": "#2a3f5f"
          },
          "geo": {
           "bgcolor": "white",
           "lakecolor": "white",
           "landcolor": "#E5ECF6",
           "showlakes": true,
           "showland": true,
           "subunitcolor": "white"
          },
          "hoverlabel": {
           "align": "left"
          },
          "hovermode": "closest",
          "mapbox": {
           "style": "light"
          },
          "paper_bgcolor": "white",
          "plot_bgcolor": "#E5ECF6",
          "polar": {
           "angularaxis": {
            "gridcolor": "white",
            "linecolor": "white",
            "ticks": ""
           },
           "bgcolor": "#E5ECF6",
           "radialaxis": {
            "gridcolor": "white",
            "linecolor": "white",
            "ticks": ""
           }
          },
          "scene": {
           "xaxis": {
            "backgroundcolor": "#E5ECF6",
            "gridcolor": "white",
            "gridwidth": 2,
            "linecolor": "white",
            "showbackground": true,
            "ticks": "",
            "zerolinecolor": "white"
           },
           "yaxis": {
            "backgroundcolor": "#E5ECF6",
            "gridcolor": "white",
            "gridwidth": 2,
            "linecolor": "white",
            "showbackground": true,
            "ticks": "",
            "zerolinecolor": "white"
           },
           "zaxis": {
            "backgroundcolor": "#E5ECF6",
            "gridcolor": "white",
            "gridwidth": 2,
            "linecolor": "white",
            "showbackground": true,
            "ticks": "",
            "zerolinecolor": "white"
           }
          },
          "shapedefaults": {
           "line": {
            "color": "#2a3f5f"
           }
          },
          "ternary": {
           "aaxis": {
            "gridcolor": "white",
            "linecolor": "white",
            "ticks": ""
           },
           "baxis": {
            "gridcolor": "white",
            "linecolor": "white",
            "ticks": ""
           },
           "bgcolor": "#E5ECF6",
           "caxis": {
            "gridcolor": "white",
            "linecolor": "white",
            "ticks": ""
           }
          },
          "title": {
           "x": 0.05
          },
          "xaxis": {
           "automargin": true,
           "gridcolor": "white",
           "linecolor": "white",
           "ticks": "",
           "title": {
            "standoff": 15
           },
           "zerolinecolor": "white",
           "zerolinewidth": 2
          },
          "yaxis": {
           "automargin": true,
           "gridcolor": "white",
           "linecolor": "white",
           "ticks": "",
           "title": {
            "standoff": 15
           },
           "zerolinecolor": "white",
           "zerolinewidth": 2
          }
         }
        },
        "title": {
         "text": "Weekly Shedule"
        },
        "xaxis": {
         "range": [
          "1900-01-01T08:55:00",
          "1900-01-01T16:05:00"
         ],
         "tickformat": "%H:%M",
         "title": {
          "text": "Time"
         }
        },
        "yaxis": {
         "range": [
          0.4,
          5.6
         ],
         "ticktext": [
          "Monday",
          "Tuesday",
          "Wednesday",
          "Thursday",
          "Friday"
         ],
         "tickvals": [
          5,
          4,
          3,
          2,
          1
         ],
         "title": {
          "text": ""
         }
        }
       }
      }
     },
     "metadata": {},
     "output_type": "display_data"
    }
   ],
   "source": [
    "import plotly.graph_objects as go\n",
    "import pandas as pd\n",
    "\n",
    "# Создаём DataFrame с координатами и штриховкой\n",
    "data = {\n",
    "    \"start_time\": [\"09:00\", \"09:30\", \"11:00\", \"13:15\", \"15:15\"],\n",
    "    \"end_time\": [\"10:00\", \"10:30\", \"12:00\", \"14:00\", \"16:00\"],\n",
    "    \"day\":[\"Monday\",\"Tuesday\",\"Wednesday\",\"Thursday\",\"Friday\"],\n",
    "    \"service_id\":['Pedicure','Manicure','Haircut','Pedicure','Manicure'],\n",
    "    \"client_id\": [\"Alice\",\"Bob\",\"Alice\",\"Charlie\",\"Mark\"]\n",
    "}\n",
    "\n",
    "day_map = {\n",
    "    \"Monday\":5,\n",
    "    \"Tuesday\":4,\n",
    "    \"Wednesday\":3,\n",
    "    \"Thursday\":2,\n",
    "    \"Friday\":1\n",
    "}\n",
    "\n",
    "df = pd.DataFrame(data)\n",
    "\n",
    "df[\"start_time_dt\"] = pd.to_datetime(df[\"start_time\"], format=\"%H:%M\")\n",
    "df[\"end_time_dt\"] = pd.to_datetime(df[\"end_time\"], format=\"%H:%M\")\n",
    "df[\"day_start\"] = df[\"day\"].apply(lambda x: day_map.get(x) - 0.46)\n",
    "df[\"day_end\"] = df[\"day\"].apply(lambda x: day_map.get(x) + 0.46)\n",
    "\n",
    "def shedule_plot(df, current_time, output_file=\"static/schedule_plot.html\"):\n",
    "    current_day = current_time.strftime(\"%A\")\n",
    "    current_time = datetime.strptime(current_time.strftime(\"%H:%M\"), \"%H:%M\")\n",
    "    \n",
    "    unique_services = df[\"service_id\"].unique()\n",
    "    unique_clients = df[\"client_id\"].unique()\n",
    "\n",
    "    available_colors = [\"blue\", \"purple\", \"green\", \"purple\", \"orange\", \"cyan\"]\n",
    "    available_patterns = [\"/\", \"\\\\\", \"x\", \"-\", \"|\", \"+\"]\n",
    "\n",
    "    pattern_styles = {service: available_patterns[i % len(available_patterns)] for i, service in enumerate(unique_services)}\n",
    "    color_styles = {client: available_colors[i % len(available_colors)] for i, client in enumerate(unique_clients)}\n",
    "\n",
    "    fig = go.Figure()\n",
    "    for _, row in df.iterrows():\n",
    "        fig.add_trace(go.Scatter(\n",
    "            x=[row[\"start_time_dt\"], row[\"end_time_dt\"], row[\"end_time_dt\"], row[\"start_time_dt\"], row[\"start_time_dt\"]],\n",
    "            y=[row[\"day_start\"], row[\"day_start\"], row[\"day_end\"], row[\"day_end\"], row[\"day_start\"]],\n",
    "            mode=\"lines\",\n",
    "            fill=\"toself\",\n",
    "            fillpattern=dict(shape=pattern_styles.get(row[\"service_id\"], \"\")),\n",
    "            line=dict(color=color_styles.get(row['client_id']), width=2),\n",
    "            hoverinfo=\"skip\"\n",
    "        ))\n",
    "\n",
    "        fig.add_trace(go.Scatter(\n",
    "            x=[row[\"start_time_dt\"], row[\"end_time_dt\"]],\n",
    "            y=[(row[\"day_start\"] + row[\"day_end\"]) / 2] * 2,\n",
    "            mode=\"text\",\n",
    "            text=[f\"<b>  {row['client_id']} - {row['service_id']}<br>  ({row['start_time']}-{row['end_time']})</b>\"],  # Сам текст\n",
    "            textposition=\"middle right\",\n",
    "            showlegend=False,\n",
    "            hoverinfo=\"skip\"\n",
    "        ))\n",
    "\n",
    "    fig.update_layout(\n",
    "        title=\"Weekly Shedule\",\n",
    "        xaxis=dict(\n",
    "            tickformat=\"%H:%M\",\n",
    "            title=\"Time\",\n",
    "            range=[pd.to_datetime(\"08:55\", format=\"%H:%M\"), pd.to_datetime(\"16:05\", format=\"%H:%M\")],\n",
    "        ),\n",
    "        yaxis=dict(\n",
    "            range=[0.4, 5.6], \n",
    "            title=\"\",\n",
    "            tickvals=list(day_map.values()),\n",
    "            ticktext=list(day_map.keys()),\n",
    "            ),\n",
    "        showlegend=False,\n",
    "    )\n",
    "\n",
    "    fig.add_trace(go.Scatter(\n",
    "        x=[current_time, current_time],\n",
    "        y=[day_map.get(current_day) - 0.48, day_map.get(current_day) + 0.48],\n",
    "        mode=\"lines+markers\",\n",
    "        marker=dict(size=10, color=\"red\", symbol=\"circle\"),\n",
    "        name=\"Current Time\",\n",
    "        hovertemplate=\"<b>Current Time<br>%{x|%H:%M}\",\n",
    "        hovertext=\"None\"\n",
    "    ))\n",
    "    print(day_map.get(current_day))\n",
    "\n",
    "    fig.show()\n",
    "    #fig.write_html(output_file)\n",
    "\n",
    "current_time = datetime.strptime(\"Monday 9:30\", \"%A %H:%M\")\n",
    "shedule_plot(df, current_time, output_file=\"static/schedule_plot.html\")"
   ]
  },
  {
   "cell_type": "code",
   "execution_count": 57,
   "metadata": {},
   "outputs": [
    {
     "data": {
      "application/vnd.plotly.v1+json": {
       "config": {
        "plotlyServerURL": "https://plot.ly"
       },
       "data": [
        {
         "fill": "toself",
         "line": {
          "color": "blue"
         },
         "name": "Rectangle",
         "type": "scatter",
         "x": [
          2,
          5,
          5,
          2,
          2
         ],
         "y": [
          1,
          1,
          4,
          4,
          1
         ]
        }
       ],
       "layout": {
        "showlegend": true,
        "template": {
         "data": {
          "bar": [
           {
            "error_x": {
             "color": "#2a3f5f"
            },
            "error_y": {
             "color": "#2a3f5f"
            },
            "marker": {
             "line": {
              "color": "#E5ECF6",
              "width": 0.5
             },
             "pattern": {
              "fillmode": "overlay",
              "size": 10,
              "solidity": 0.2
             }
            },
            "type": "bar"
           }
          ],
          "barpolar": [
           {
            "marker": {
             "line": {
              "color": "#E5ECF6",
              "width": 0.5
             },
             "pattern": {
              "fillmode": "overlay",
              "size": 10,
              "solidity": 0.2
             }
            },
            "type": "barpolar"
           }
          ],
          "carpet": [
           {
            "aaxis": {
             "endlinecolor": "#2a3f5f",
             "gridcolor": "white",
             "linecolor": "white",
             "minorgridcolor": "white",
             "startlinecolor": "#2a3f5f"
            },
            "baxis": {
             "endlinecolor": "#2a3f5f",
             "gridcolor": "white",
             "linecolor": "white",
             "minorgridcolor": "white",
             "startlinecolor": "#2a3f5f"
            },
            "type": "carpet"
           }
          ],
          "choropleth": [
           {
            "colorbar": {
             "outlinewidth": 0,
             "ticks": ""
            },
            "type": "choropleth"
           }
          ],
          "contour": [
           {
            "colorbar": {
             "outlinewidth": 0,
             "ticks": ""
            },
            "colorscale": [
             [
              0,
              "#0d0887"
             ],
             [
              0.1111111111111111,
              "#46039f"
             ],
             [
              0.2222222222222222,
              "#7201a8"
             ],
             [
              0.3333333333333333,
              "#9c179e"
             ],
             [
              0.4444444444444444,
              "#bd3786"
             ],
             [
              0.5555555555555556,
              "#d8576b"
             ],
             [
              0.6666666666666666,
              "#ed7953"
             ],
             [
              0.7777777777777778,
              "#fb9f3a"
             ],
             [
              0.8888888888888888,
              "#fdca26"
             ],
             [
              1,
              "#f0f921"
             ]
            ],
            "type": "contour"
           }
          ],
          "contourcarpet": [
           {
            "colorbar": {
             "outlinewidth": 0,
             "ticks": ""
            },
            "type": "contourcarpet"
           }
          ],
          "heatmap": [
           {
            "colorbar": {
             "outlinewidth": 0,
             "ticks": ""
            },
            "colorscale": [
             [
              0,
              "#0d0887"
             ],
             [
              0.1111111111111111,
              "#46039f"
             ],
             [
              0.2222222222222222,
              "#7201a8"
             ],
             [
              0.3333333333333333,
              "#9c179e"
             ],
             [
              0.4444444444444444,
              "#bd3786"
             ],
             [
              0.5555555555555556,
              "#d8576b"
             ],
             [
              0.6666666666666666,
              "#ed7953"
             ],
             [
              0.7777777777777778,
              "#fb9f3a"
             ],
             [
              0.8888888888888888,
              "#fdca26"
             ],
             [
              1,
              "#f0f921"
             ]
            ],
            "type": "heatmap"
           }
          ],
          "histogram": [
           {
            "marker": {
             "pattern": {
              "fillmode": "overlay",
              "size": 10,
              "solidity": 0.2
             }
            },
            "type": "histogram"
           }
          ],
          "histogram2d": [
           {
            "colorbar": {
             "outlinewidth": 0,
             "ticks": ""
            },
            "colorscale": [
             [
              0,
              "#0d0887"
             ],
             [
              0.1111111111111111,
              "#46039f"
             ],
             [
              0.2222222222222222,
              "#7201a8"
             ],
             [
              0.3333333333333333,
              "#9c179e"
             ],
             [
              0.4444444444444444,
              "#bd3786"
             ],
             [
              0.5555555555555556,
              "#d8576b"
             ],
             [
              0.6666666666666666,
              "#ed7953"
             ],
             [
              0.7777777777777778,
              "#fb9f3a"
             ],
             [
              0.8888888888888888,
              "#fdca26"
             ],
             [
              1,
              "#f0f921"
             ]
            ],
            "type": "histogram2d"
           }
          ],
          "histogram2dcontour": [
           {
            "colorbar": {
             "outlinewidth": 0,
             "ticks": ""
            },
            "colorscale": [
             [
              0,
              "#0d0887"
             ],
             [
              0.1111111111111111,
              "#46039f"
             ],
             [
              0.2222222222222222,
              "#7201a8"
             ],
             [
              0.3333333333333333,
              "#9c179e"
             ],
             [
              0.4444444444444444,
              "#bd3786"
             ],
             [
              0.5555555555555556,
              "#d8576b"
             ],
             [
              0.6666666666666666,
              "#ed7953"
             ],
             [
              0.7777777777777778,
              "#fb9f3a"
             ],
             [
              0.8888888888888888,
              "#fdca26"
             ],
             [
              1,
              "#f0f921"
             ]
            ],
            "type": "histogram2dcontour"
           }
          ],
          "mesh3d": [
           {
            "colorbar": {
             "outlinewidth": 0,
             "ticks": ""
            },
            "type": "mesh3d"
           }
          ],
          "parcoords": [
           {
            "line": {
             "colorbar": {
              "outlinewidth": 0,
              "ticks": ""
             }
            },
            "type": "parcoords"
           }
          ],
          "pie": [
           {
            "automargin": true,
            "type": "pie"
           }
          ],
          "scatter": [
           {
            "fillpattern": {
             "fillmode": "overlay",
             "size": 10,
             "solidity": 0.2
            },
            "type": "scatter"
           }
          ],
          "scatter3d": [
           {
            "line": {
             "colorbar": {
              "outlinewidth": 0,
              "ticks": ""
             }
            },
            "marker": {
             "colorbar": {
              "outlinewidth": 0,
              "ticks": ""
             }
            },
            "type": "scatter3d"
           }
          ],
          "scattercarpet": [
           {
            "marker": {
             "colorbar": {
              "outlinewidth": 0,
              "ticks": ""
             }
            },
            "type": "scattercarpet"
           }
          ],
          "scattergeo": [
           {
            "marker": {
             "colorbar": {
              "outlinewidth": 0,
              "ticks": ""
             }
            },
            "type": "scattergeo"
           }
          ],
          "scattergl": [
           {
            "marker": {
             "colorbar": {
              "outlinewidth": 0,
              "ticks": ""
             }
            },
            "type": "scattergl"
           }
          ],
          "scattermap": [
           {
            "marker": {
             "colorbar": {
              "outlinewidth": 0,
              "ticks": ""
             }
            },
            "type": "scattermap"
           }
          ],
          "scattermapbox": [
           {
            "marker": {
             "colorbar": {
              "outlinewidth": 0,
              "ticks": ""
             }
            },
            "type": "scattermapbox"
           }
          ],
          "scatterpolar": [
           {
            "marker": {
             "colorbar": {
              "outlinewidth": 0,
              "ticks": ""
             }
            },
            "type": "scatterpolar"
           }
          ],
          "scatterpolargl": [
           {
            "marker": {
             "colorbar": {
              "outlinewidth": 0,
              "ticks": ""
             }
            },
            "type": "scatterpolargl"
           }
          ],
          "scatterternary": [
           {
            "marker": {
             "colorbar": {
              "outlinewidth": 0,
              "ticks": ""
             }
            },
            "type": "scatterternary"
           }
          ],
          "surface": [
           {
            "colorbar": {
             "outlinewidth": 0,
             "ticks": ""
            },
            "colorscale": [
             [
              0,
              "#0d0887"
             ],
             [
              0.1111111111111111,
              "#46039f"
             ],
             [
              0.2222222222222222,
              "#7201a8"
             ],
             [
              0.3333333333333333,
              "#9c179e"
             ],
             [
              0.4444444444444444,
              "#bd3786"
             ],
             [
              0.5555555555555556,
              "#d8576b"
             ],
             [
              0.6666666666666666,
              "#ed7953"
             ],
             [
              0.7777777777777778,
              "#fb9f3a"
             ],
             [
              0.8888888888888888,
              "#fdca26"
             ],
             [
              1,
              "#f0f921"
             ]
            ],
            "type": "surface"
           }
          ],
          "table": [
           {
            "cells": {
             "fill": {
              "color": "#EBF0F8"
             },
             "line": {
              "color": "white"
             }
            },
            "header": {
             "fill": {
              "color": "#C8D4E3"
             },
             "line": {
              "color": "white"
             }
            },
            "type": "table"
           }
          ]
         },
         "layout": {
          "annotationdefaults": {
           "arrowcolor": "#2a3f5f",
           "arrowhead": 0,
           "arrowwidth": 1
          },
          "autotypenumbers": "strict",
          "coloraxis": {
           "colorbar": {
            "outlinewidth": 0,
            "ticks": ""
           }
          },
          "colorscale": {
           "diverging": [
            [
             0,
             "#8e0152"
            ],
            [
             0.1,
             "#c51b7d"
            ],
            [
             0.2,
             "#de77ae"
            ],
            [
             0.3,
             "#f1b6da"
            ],
            [
             0.4,
             "#fde0ef"
            ],
            [
             0.5,
             "#f7f7f7"
            ],
            [
             0.6,
             "#e6f5d0"
            ],
            [
             0.7,
             "#b8e186"
            ],
            [
             0.8,
             "#7fbc41"
            ],
            [
             0.9,
             "#4d9221"
            ],
            [
             1,
             "#276419"
            ]
           ],
           "sequential": [
            [
             0,
             "#0d0887"
            ],
            [
             0.1111111111111111,
             "#46039f"
            ],
            [
             0.2222222222222222,
             "#7201a8"
            ],
            [
             0.3333333333333333,
             "#9c179e"
            ],
            [
             0.4444444444444444,
             "#bd3786"
            ],
            [
             0.5555555555555556,
             "#d8576b"
            ],
            [
             0.6666666666666666,
             "#ed7953"
            ],
            [
             0.7777777777777778,
             "#fb9f3a"
            ],
            [
             0.8888888888888888,
             "#fdca26"
            ],
            [
             1,
             "#f0f921"
            ]
           ],
           "sequentialminus": [
            [
             0,
             "#0d0887"
            ],
            [
             0.1111111111111111,
             "#46039f"
            ],
            [
             0.2222222222222222,
             "#7201a8"
            ],
            [
             0.3333333333333333,
             "#9c179e"
            ],
            [
             0.4444444444444444,
             "#bd3786"
            ],
            [
             0.5555555555555556,
             "#d8576b"
            ],
            [
             0.6666666666666666,
             "#ed7953"
            ],
            [
             0.7777777777777778,
             "#fb9f3a"
            ],
            [
             0.8888888888888888,
             "#fdca26"
            ],
            [
             1,
             "#f0f921"
            ]
           ]
          },
          "colorway": [
           "#636efa",
           "#EF553B",
           "#00cc96",
           "#ab63fa",
           "#FFA15A",
           "#19d3f3",
           "#FF6692",
           "#B6E880",
           "#FF97FF",
           "#FECB52"
          ],
          "font": {
           "color": "#2a3f5f"
          },
          "geo": {
           "bgcolor": "white",
           "lakecolor": "white",
           "landcolor": "#E5ECF6",
           "showlakes": true,
           "showland": true,
           "subunitcolor": "white"
          },
          "hoverlabel": {
           "align": "left"
          },
          "hovermode": "closest",
          "mapbox": {
           "style": "light"
          },
          "paper_bgcolor": "white",
          "plot_bgcolor": "#E5ECF6",
          "polar": {
           "angularaxis": {
            "gridcolor": "white",
            "linecolor": "white",
            "ticks": ""
           },
           "bgcolor": "#E5ECF6",
           "radialaxis": {
            "gridcolor": "white",
            "linecolor": "white",
            "ticks": ""
           }
          },
          "scene": {
           "xaxis": {
            "backgroundcolor": "#E5ECF6",
            "gridcolor": "white",
            "gridwidth": 2,
            "linecolor": "white",
            "showbackground": true,
            "ticks": "",
            "zerolinecolor": "white"
           },
           "yaxis": {
            "backgroundcolor": "#E5ECF6",
            "gridcolor": "white",
            "gridwidth": 2,
            "linecolor": "white",
            "showbackground": true,
            "ticks": "",
            "zerolinecolor": "white"
           },
           "zaxis": {
            "backgroundcolor": "#E5ECF6",
            "gridcolor": "white",
            "gridwidth": 2,
            "linecolor": "white",
            "showbackground": true,
            "ticks": "",
            "zerolinecolor": "white"
           }
          },
          "shapedefaults": {
           "line": {
            "color": "#2a3f5f"
           }
          },
          "ternary": {
           "aaxis": {
            "gridcolor": "white",
            "linecolor": "white",
            "ticks": ""
           },
           "baxis": {
            "gridcolor": "white",
            "linecolor": "white",
            "ticks": ""
           },
           "bgcolor": "#E5ECF6",
           "caxis": {
            "gridcolor": "white",
            "linecolor": "white",
            "ticks": ""
           }
          },
          "title": {
           "x": 0.05
          },
          "xaxis": {
           "automargin": true,
           "gridcolor": "white",
           "linecolor": "white",
           "ticks": "",
           "title": {
            "standoff": 15
           },
           "zerolinecolor": "white",
           "zerolinewidth": 2
          },
          "yaxis": {
           "automargin": true,
           "gridcolor": "white",
           "linecolor": "white",
           "ticks": "",
           "title": {
            "standoff": 15
           },
           "zerolinecolor": "white",
           "zerolinewidth": 2
          }
         }
        },
        "title": {
         "text": "Simple Rectangle"
        },
        "xaxis": {
         "range": [
          0,
          7
         ],
         "title": {
          "text": "X Axis"
         }
        },
        "yaxis": {
         "range": [
          0,
          5
         ],
         "title": {
          "text": "Y Axis"
         }
        }
       }
      }
     },
     "metadata": {},
     "output_type": "display_data"
    }
   ],
   "source": [
    "import plotly.graph_objects as go\n",
    "\n",
    "# Координаты прямоугольника\n",
    "x1, x2 = 2, 5  # Начало и конец по X\n",
    "y1, y2 = 1, 4  # Нижняя и верхняя границы по Y\n",
    "\n",
    "# Определяем точки прямоугольника (по часовой стрелке)\n",
    "rect_x = [x1, x2, x2, x1, x1]  # Замыкаем контур\n",
    "rect_y = [y1, y1, y2, y2, y1]  # Замыкаем контур\n",
    "\n",
    "# Создаём фигуру\n",
    "fig = go.Figure()\n",
    "\n",
    "# Добавляем прямоугольник\n",
    "fig.add_trace(go.Scatter(\n",
    "    x=rect_x, y=rect_y,\n",
    "    fill=\"toself\",  # Закрашиваем фигуру\n",
    "    line=dict(color=\"blue\"),  # Цвет границы\n",
    "    name=\"Rectangle\"\n",
    "))\n",
    "\n",
    "# Настраиваем оси\n",
    "fig.update_layout(\n",
    "    title=\"Simple Rectangle\",\n",
    "    xaxis=dict(range=[0, 7], title=\"X Axis\"),\n",
    "    yaxis=dict(range=[0, 5], title=\"Y Axis\"),\n",
    "    showlegend=True\n",
    ")\n",
    "\n",
    "# Отображаем график\n",
    "fig.show()"
   ]
  },
  {
   "cell_type": "code",
   "execution_count": null,
   "metadata": {},
   "outputs": [],
   "source": []
  },
  {
   "cell_type": "code",
   "execution_count": 212,
   "metadata": {},
   "outputs": [],
   "source": [
    "\n",
    "def time_add(time_obj, minutes, sign = '+'):\n",
    "    delta = timedelta(minutes=minutes)\n",
    "    new_time = (datetime.combine(datetime.today(), time_obj) + (delta if sign == '+' else -delta)).time()\n",
    "    return new_time"
   ]
  },
  {
   "cell_type": "code",
   "execution_count": 213,
   "metadata": {},
   "outputs": [
    {
     "data": {
      "text/plain": [
       "datetime.time(10, 50)"
      ]
     },
     "execution_count": 213,
     "metadata": {},
     "output_type": "execute_result"
    }
   ],
   "source": [
    "time_add(datetime.strptime(\"11:00\",\"%H:%M\").time(), 10, \"-\")"
   ]
  },
  {
   "cell_type": "code",
   "execution_count": 2,
   "metadata": {},
   "outputs": [
    {
     "name": "stdout",
     "output_type": "stream",
     "text": [
      "📌 Generating non-overlapping appointments...\n",
      "0\n",
      "1\n",
      "2\n",
      "3\n",
      "4\n",
      "5\n",
      "6\n",
      "6\n",
      "7\n",
      "8\n",
      "9\n",
      "9\n",
      "10\n",
      "11\n",
      "11\n",
      "11\n",
      "12\n",
      "13\n",
      "14\n",
      "14\n",
      "15\n",
      "16\n",
      "16\n",
      "16\n",
      "16\n",
      "17\n",
      "17\n",
      "17\n",
      "17\n",
      "17\n",
      "18\n",
      "18\n",
      "18\n",
      "18\n",
      "19\n",
      "20\n",
      "20\n",
      "20\n",
      "20\n",
      "20\n",
      "20\n",
      "20\n",
      "20\n",
      "20\n",
      "20\n",
      "20\n",
      "20\n",
      "20\n",
      "20\n",
      "20\n",
      "20\n",
      "20\n",
      "20\n",
      "20\n",
      "20\n",
      "20\n",
      "20\n",
      "20\n",
      "20\n",
      "21\n",
      "21\n",
      "21\n",
      "21\n",
      "21\n",
      "21\n",
      "21\n",
      "22\n",
      "22\n",
      "23\n",
      "24\n"
     ]
    },
    {
     "data": {
      "text/html": [
       "<div>\n",
       "<style scoped>\n",
       "    .dataframe tbody tr th:only-of-type {\n",
       "        vertical-align: middle;\n",
       "    }\n",
       "\n",
       "    .dataframe tbody tr th {\n",
       "        vertical-align: top;\n",
       "    }\n",
       "\n",
       "    .dataframe thead th {\n",
       "        text-align: right;\n",
       "    }\n",
       "</style>\n",
       "<table border=\"1\" class=\"dataframe\">\n",
       "  <thead>\n",
       "    <tr style=\"text-align: right;\">\n",
       "      <th></th>\n",
       "      <th>day</th>\n",
       "      <th>start_time</th>\n",
       "      <th>end_time</th>\n",
       "      <th>service_id</th>\n",
       "      <th>duration</th>\n",
       "      <th>client_id</th>\n",
       "    </tr>\n",
       "  </thead>\n",
       "  <tbody>\n",
       "    <tr>\n",
       "      <th>0</th>\n",
       "      <td>Monday</td>\n",
       "      <td>10:20:00</td>\n",
       "      <td>11:00:00</td>\n",
       "      <td>Haircat</td>\n",
       "      <td>40</td>\n",
       "      <td>Ann</td>\n",
       "    </tr>\n",
       "    <tr>\n",
       "      <th>1</th>\n",
       "      <td>Monday</td>\n",
       "      <td>09:00:00</td>\n",
       "      <td>09:35:00</td>\n",
       "      <td>Pedicure</td>\n",
       "      <td>35</td>\n",
       "      <td>Bob</td>\n",
       "    </tr>\n",
       "    <tr>\n",
       "      <th>2</th>\n",
       "      <td>Friday</td>\n",
       "      <td>10:50:00</td>\n",
       "      <td>11:15:00</td>\n",
       "      <td>Manicure</td>\n",
       "      <td>25</td>\n",
       "      <td>Ann</td>\n",
       "    </tr>\n",
       "    <tr>\n",
       "      <th>3</th>\n",
       "      <td>Monday</td>\n",
       "      <td>14:50:00</td>\n",
       "      <td>15:25:00</td>\n",
       "      <td>Pedicure</td>\n",
       "      <td>35</td>\n",
       "      <td>Ann</td>\n",
       "    </tr>\n",
       "    <tr>\n",
       "      <th>4</th>\n",
       "      <td>Thursday</td>\n",
       "      <td>09:00:00</td>\n",
       "      <td>09:35:00</td>\n",
       "      <td>Pedicure</td>\n",
       "      <td>35</td>\n",
       "      <td>Alice</td>\n",
       "    </tr>\n",
       "    <tr>\n",
       "      <th>5</th>\n",
       "      <td>Thursday</td>\n",
       "      <td>11:50:00</td>\n",
       "      <td>12:15:00</td>\n",
       "      <td>Manicure</td>\n",
       "      <td>25</td>\n",
       "      <td>Alice</td>\n",
       "    </tr>\n",
       "    <tr>\n",
       "      <th>6</th>\n",
       "      <td>Tuesday</td>\n",
       "      <td>15:20:00</td>\n",
       "      <td>15:55:00</td>\n",
       "      <td>Pedicure</td>\n",
       "      <td>35</td>\n",
       "      <td>Ann</td>\n",
       "    </tr>\n",
       "    <tr>\n",
       "      <th>7</th>\n",
       "      <td>Friday</td>\n",
       "      <td>10:00:00</td>\n",
       "      <td>10:40:00</td>\n",
       "      <td>Haircat</td>\n",
       "      <td>40</td>\n",
       "      <td>Bob</td>\n",
       "    </tr>\n",
       "    <tr>\n",
       "      <th>8</th>\n",
       "      <td>Wednesday</td>\n",
       "      <td>10:00:00</td>\n",
       "      <td>10:35:00</td>\n",
       "      <td>Pedicure</td>\n",
       "      <td>35</td>\n",
       "      <td>Bob</td>\n",
       "    </tr>\n",
       "    <tr>\n",
       "      <th>9</th>\n",
       "      <td>Thursday</td>\n",
       "      <td>13:00:00</td>\n",
       "      <td>13:35:00</td>\n",
       "      <td>Pedicure</td>\n",
       "      <td>35</td>\n",
       "      <td>Bob</td>\n",
       "    </tr>\n",
       "    <tr>\n",
       "      <th>10</th>\n",
       "      <td>Tuesday</td>\n",
       "      <td>10:50:00</td>\n",
       "      <td>11:30:00</td>\n",
       "      <td>Haircat</td>\n",
       "      <td>40</td>\n",
       "      <td>Ann</td>\n",
       "    </tr>\n",
       "    <tr>\n",
       "      <th>11</th>\n",
       "      <td>Friday</td>\n",
       "      <td>12:30:00</td>\n",
       "      <td>13:05:00</td>\n",
       "      <td>Pedicure</td>\n",
       "      <td>35</td>\n",
       "      <td>Bob</td>\n",
       "    </tr>\n",
       "    <tr>\n",
       "      <th>12</th>\n",
       "      <td>Thursday</td>\n",
       "      <td>10:50:00</td>\n",
       "      <td>11:30:00</td>\n",
       "      <td>Haircat</td>\n",
       "      <td>40</td>\n",
       "      <td>Ann</td>\n",
       "    </tr>\n",
       "    <tr>\n",
       "      <th>13</th>\n",
       "      <td>Friday</td>\n",
       "      <td>13:20:00</td>\n",
       "      <td>13:45:00</td>\n",
       "      <td>Manicure</td>\n",
       "      <td>25</td>\n",
       "      <td>Bob</td>\n",
       "    </tr>\n",
       "    <tr>\n",
       "      <th>14</th>\n",
       "      <td>Tuesday</td>\n",
       "      <td>14:00:00</td>\n",
       "      <td>14:35:00</td>\n",
       "      <td>Pedicure</td>\n",
       "      <td>35</td>\n",
       "      <td>Alice</td>\n",
       "    </tr>\n",
       "    <tr>\n",
       "      <th>15</th>\n",
       "      <td>Monday</td>\n",
       "      <td>12:20:00</td>\n",
       "      <td>12:55:00</td>\n",
       "      <td>Pedicure</td>\n",
       "      <td>35</td>\n",
       "      <td>Alice</td>\n",
       "    </tr>\n",
       "    <tr>\n",
       "      <th>16</th>\n",
       "      <td>Wednesday</td>\n",
       "      <td>14:00:00</td>\n",
       "      <td>14:25:00</td>\n",
       "      <td>Manicure</td>\n",
       "      <td>25</td>\n",
       "      <td>Ann</td>\n",
       "    </tr>\n",
       "    <tr>\n",
       "      <th>17</th>\n",
       "      <td>Monday</td>\n",
       "      <td>14:00:00</td>\n",
       "      <td>14:25:00</td>\n",
       "      <td>Manicure</td>\n",
       "      <td>25</td>\n",
       "      <td>Bob</td>\n",
       "    </tr>\n",
       "    <tr>\n",
       "      <th>18</th>\n",
       "      <td>Thursday</td>\n",
       "      <td>09:50:00</td>\n",
       "      <td>10:15:00</td>\n",
       "      <td>Manicure</td>\n",
       "      <td>25</td>\n",
       "      <td>Ann</td>\n",
       "    </tr>\n",
       "    <tr>\n",
       "      <th>19</th>\n",
       "      <td>Tuesday</td>\n",
       "      <td>12:20:00</td>\n",
       "      <td>12:55:00</td>\n",
       "      <td>Pedicure</td>\n",
       "      <td>35</td>\n",
       "      <td>Bob</td>\n",
       "    </tr>\n",
       "    <tr>\n",
       "      <th>20</th>\n",
       "      <td>Monday</td>\n",
       "      <td>11:10:00</td>\n",
       "      <td>11:50:00</td>\n",
       "      <td>Haircat</td>\n",
       "      <td>40</td>\n",
       "      <td>Bob</td>\n",
       "    </tr>\n",
       "    <tr>\n",
       "      <th>21</th>\n",
       "      <td>Friday</td>\n",
       "      <td>15:30:00</td>\n",
       "      <td>15:55:00</td>\n",
       "      <td>Manicure</td>\n",
       "      <td>25</td>\n",
       "      <td>Alice</td>\n",
       "    </tr>\n",
       "    <tr>\n",
       "      <th>22</th>\n",
       "      <td>Wednesday</td>\n",
       "      <td>09:10:00</td>\n",
       "      <td>09:50:00</td>\n",
       "      <td>Haircat</td>\n",
       "      <td>40</td>\n",
       "      <td>Bob</td>\n",
       "    </tr>\n",
       "    <tr>\n",
       "      <th>23</th>\n",
       "      <td>Wednesday</td>\n",
       "      <td>12:00:00</td>\n",
       "      <td>12:25:00</td>\n",
       "      <td>Manicure</td>\n",
       "      <td>25</td>\n",
       "      <td>Alice</td>\n",
       "    </tr>\n",
       "    <tr>\n",
       "      <th>24</th>\n",
       "      <td>Tuesday</td>\n",
       "      <td>09:50:00</td>\n",
       "      <td>10:15:00</td>\n",
       "      <td>Manicure</td>\n",
       "      <td>25</td>\n",
       "      <td>Alice</td>\n",
       "    </tr>\n",
       "  </tbody>\n",
       "</table>\n",
       "</div>"
      ],
      "text/plain": [
       "          day start_time  end_time service_id  duration client_id\n",
       "0      Monday   10:20:00  11:00:00    Haircat        40       Ann\n",
       "1      Monday   09:00:00  09:35:00   Pedicure        35       Bob\n",
       "2      Friday   10:50:00  11:15:00   Manicure        25       Ann\n",
       "3      Monday   14:50:00  15:25:00   Pedicure        35       Ann\n",
       "4    Thursday   09:00:00  09:35:00   Pedicure        35     Alice\n",
       "5    Thursday   11:50:00  12:15:00   Manicure        25     Alice\n",
       "6     Tuesday   15:20:00  15:55:00   Pedicure        35       Ann\n",
       "7      Friday   10:00:00  10:40:00    Haircat        40       Bob\n",
       "8   Wednesday   10:00:00  10:35:00   Pedicure        35       Bob\n",
       "9    Thursday   13:00:00  13:35:00   Pedicure        35       Bob\n",
       "10    Tuesday   10:50:00  11:30:00    Haircat        40       Ann\n",
       "11     Friday   12:30:00  13:05:00   Pedicure        35       Bob\n",
       "12   Thursday   10:50:00  11:30:00    Haircat        40       Ann\n",
       "13     Friday   13:20:00  13:45:00   Manicure        25       Bob\n",
       "14    Tuesday   14:00:00  14:35:00   Pedicure        35     Alice\n",
       "15     Monday   12:20:00  12:55:00   Pedicure        35     Alice\n",
       "16  Wednesday   14:00:00  14:25:00   Manicure        25       Ann\n",
       "17     Monday   14:00:00  14:25:00   Manicure        25       Bob\n",
       "18   Thursday   09:50:00  10:15:00   Manicure        25       Ann\n",
       "19    Tuesday   12:20:00  12:55:00   Pedicure        35       Bob\n",
       "20     Monday   11:10:00  11:50:00    Haircat        40       Bob\n",
       "21     Friday   15:30:00  15:55:00   Manicure        25     Alice\n",
       "22  Wednesday   09:10:00  09:50:00    Haircat        40       Bob\n",
       "23  Wednesday   12:00:00  12:25:00   Manicure        25     Alice\n",
       "24    Tuesday   09:50:00  10:15:00   Manicure        25     Alice"
      ]
     },
     "execution_count": 2,
     "metadata": {},
     "output_type": "execute_result"
    }
   ],
   "source": [
    "from utils import appoinments_gen\n",
    "import pandas as pd\n",
    "\n",
    "pd.DataFrame(appoinments_gen(25, ['Alice','Bob','Ann'], {'Manicure':25,'Pedicure':35,'Haircat':40}, ['Monday','Tuesday','Wednesday','Thursday','Friday'], 9, 16, 10)[1])"
   ]
  },
  {
   "cell_type": "code",
   "execution_count": 1,
   "metadata": {},
   "outputs": [
    {
     "data": {
      "text/html": [
       "<div>\n",
       "<style scoped>\n",
       "    .dataframe tbody tr th:only-of-type {\n",
       "        vertical-align: middle;\n",
       "    }\n",
       "\n",
       "    .dataframe tbody tr th {\n",
       "        vertical-align: top;\n",
       "    }\n",
       "\n",
       "    .dataframe thead th {\n",
       "        text-align: right;\n",
       "    }\n",
       "</style>\n",
       "<table border=\"1\" class=\"dataframe\">\n",
       "  <thead>\n",
       "    <tr style=\"text-align: right;\">\n",
       "      <th></th>\n",
       "      <th>day</th>\n",
       "      <th>start_time</th>\n",
       "      <th>end_time</th>\n",
       "      <th>service_id</th>\n",
       "      <th>duration</th>\n",
       "      <th>client_id</th>\n",
       "    </tr>\n",
       "  </thead>\n",
       "  <tbody>\n",
       "    <tr>\n",
       "      <th>0</th>\n",
       "      <td>Friday</td>\n",
       "      <td>09:50:00</td>\n",
       "      <td>10:15:00</td>\n",
       "      <td>Manicure</td>\n",
       "      <td>25</td>\n",
       "      <td>Alice</td>\n",
       "    </tr>\n",
       "    <tr>\n",
       "      <th>6</th>\n",
       "      <td>Friday</td>\n",
       "      <td>11:20:00</td>\n",
       "      <td>11:55:00</td>\n",
       "      <td>Pedicure</td>\n",
       "      <td>35</td>\n",
       "      <td>Alice</td>\n",
       "    </tr>\n",
       "    <tr>\n",
       "      <th>16</th>\n",
       "      <td>Friday</td>\n",
       "      <td>12:20:00</td>\n",
       "      <td>12:45:00</td>\n",
       "      <td>Manicure</td>\n",
       "      <td>25</td>\n",
       "      <td>Bob</td>\n",
       "    </tr>\n",
       "    <tr>\n",
       "      <th>18</th>\n",
       "      <td>Friday</td>\n",
       "      <td>14:30:00</td>\n",
       "      <td>15:05:00</td>\n",
       "      <td>Pedicure</td>\n",
       "      <td>35</td>\n",
       "      <td>Bob</td>\n",
       "    </tr>\n",
       "    <tr>\n",
       "      <th>4</th>\n",
       "      <td>Monday</td>\n",
       "      <td>09:10:00</td>\n",
       "      <td>09:35:00</td>\n",
       "      <td>Manicure</td>\n",
       "      <td>25</td>\n",
       "      <td>Bob</td>\n",
       "    </tr>\n",
       "    <tr>\n",
       "      <th>7</th>\n",
       "      <td>Monday</td>\n",
       "      <td>09:50:00</td>\n",
       "      <td>10:25:00</td>\n",
       "      <td>Pedicure</td>\n",
       "      <td>35</td>\n",
       "      <td>Alice</td>\n",
       "    </tr>\n",
       "    <tr>\n",
       "      <th>2</th>\n",
       "      <td>Monday</td>\n",
       "      <td>11:00:00</td>\n",
       "      <td>11:35:00</td>\n",
       "      <td>Pedicure</td>\n",
       "      <td>35</td>\n",
       "      <td>Bob</td>\n",
       "    </tr>\n",
       "    <tr>\n",
       "      <th>14</th>\n",
       "      <td>Monday</td>\n",
       "      <td>13:50:00</td>\n",
       "      <td>14:15:00</td>\n",
       "      <td>Manicure</td>\n",
       "      <td>25</td>\n",
       "      <td>Alice</td>\n",
       "    </tr>\n",
       "    <tr>\n",
       "      <th>10</th>\n",
       "      <td>Thursday</td>\n",
       "      <td>09:10:00</td>\n",
       "      <td>09:35:00</td>\n",
       "      <td>Manicure</td>\n",
       "      <td>25</td>\n",
       "      <td>Bob</td>\n",
       "    </tr>\n",
       "    <tr>\n",
       "      <th>9</th>\n",
       "      <td>Thursday</td>\n",
       "      <td>10:10:00</td>\n",
       "      <td>10:45:00</td>\n",
       "      <td>Pedicure</td>\n",
       "      <td>35</td>\n",
       "      <td>Alice</td>\n",
       "    </tr>\n",
       "    <tr>\n",
       "      <th>13</th>\n",
       "      <td>Thursday</td>\n",
       "      <td>12:00:00</td>\n",
       "      <td>12:35:00</td>\n",
       "      <td>Pedicure</td>\n",
       "      <td>35</td>\n",
       "      <td>Bob</td>\n",
       "    </tr>\n",
       "    <tr>\n",
       "      <th>5</th>\n",
       "      <td>Thursday</td>\n",
       "      <td>14:10:00</td>\n",
       "      <td>14:35:00</td>\n",
       "      <td>Manicure</td>\n",
       "      <td>25</td>\n",
       "      <td>Alice</td>\n",
       "    </tr>\n",
       "    <tr>\n",
       "      <th>19</th>\n",
       "      <td>Tuesday</td>\n",
       "      <td>09:30:00</td>\n",
       "      <td>09:55:00</td>\n",
       "      <td>Manicure</td>\n",
       "      <td>25</td>\n",
       "      <td>Alice</td>\n",
       "    </tr>\n",
       "    <tr>\n",
       "      <th>11</th>\n",
       "      <td>Tuesday</td>\n",
       "      <td>11:50:00</td>\n",
       "      <td>12:25:00</td>\n",
       "      <td>Pedicure</td>\n",
       "      <td>35</td>\n",
       "      <td>Alice</td>\n",
       "    </tr>\n",
       "    <tr>\n",
       "      <th>1</th>\n",
       "      <td>Tuesday</td>\n",
       "      <td>13:00:00</td>\n",
       "      <td>13:25:00</td>\n",
       "      <td>Manicure</td>\n",
       "      <td>25</td>\n",
       "      <td>Bob</td>\n",
       "    </tr>\n",
       "    <tr>\n",
       "      <th>12</th>\n",
       "      <td>Tuesday</td>\n",
       "      <td>14:00:00</td>\n",
       "      <td>14:35:00</td>\n",
       "      <td>Pedicure</td>\n",
       "      <td>35</td>\n",
       "      <td>Bob</td>\n",
       "    </tr>\n",
       "    <tr>\n",
       "      <th>8</th>\n",
       "      <td>Wednesday</td>\n",
       "      <td>10:30:00</td>\n",
       "      <td>11:05:00</td>\n",
       "      <td>Pedicure</td>\n",
       "      <td>35</td>\n",
       "      <td>Bob</td>\n",
       "    </tr>\n",
       "    <tr>\n",
       "      <th>3</th>\n",
       "      <td>Wednesday</td>\n",
       "      <td>11:50:00</td>\n",
       "      <td>12:15:00</td>\n",
       "      <td>Manicure</td>\n",
       "      <td>25</td>\n",
       "      <td>Bob</td>\n",
       "    </tr>\n",
       "    <tr>\n",
       "      <th>15</th>\n",
       "      <td>Wednesday</td>\n",
       "      <td>13:30:00</td>\n",
       "      <td>14:05:00</td>\n",
       "      <td>Pedicure</td>\n",
       "      <td>35</td>\n",
       "      <td>Alice</td>\n",
       "    </tr>\n",
       "    <tr>\n",
       "      <th>17</th>\n",
       "      <td>Wednesday</td>\n",
       "      <td>14:20:00</td>\n",
       "      <td>14:45:00</td>\n",
       "      <td>Manicure</td>\n",
       "      <td>25</td>\n",
       "      <td>Alice</td>\n",
       "    </tr>\n",
       "  </tbody>\n",
       "</table>\n",
       "</div>"
      ],
      "text/plain": [
       "          day start_time  end_time service_id  duration client_id\n",
       "0      Friday   09:50:00  10:15:00   Manicure        25     Alice\n",
       "6      Friday   11:20:00  11:55:00   Pedicure        35     Alice\n",
       "16     Friday   12:20:00  12:45:00   Manicure        25       Bob\n",
       "18     Friday   14:30:00  15:05:00   Pedicure        35       Bob\n",
       "4      Monday   09:10:00  09:35:00   Manicure        25       Bob\n",
       "7      Monday   09:50:00  10:25:00   Pedicure        35     Alice\n",
       "2      Monday   11:00:00  11:35:00   Pedicure        35       Bob\n",
       "14     Monday   13:50:00  14:15:00   Manicure        25     Alice\n",
       "10   Thursday   09:10:00  09:35:00   Manicure        25       Bob\n",
       "9    Thursday   10:10:00  10:45:00   Pedicure        35     Alice\n",
       "13   Thursday   12:00:00  12:35:00   Pedicure        35       Bob\n",
       "5    Thursday   14:10:00  14:35:00   Manicure        25     Alice\n",
       "19    Tuesday   09:30:00  09:55:00   Manicure        25     Alice\n",
       "11    Tuesday   11:50:00  12:25:00   Pedicure        35     Alice\n",
       "1     Tuesday   13:00:00  13:25:00   Manicure        25       Bob\n",
       "12    Tuesday   14:00:00  14:35:00   Pedicure        35       Bob\n",
       "8   Wednesday   10:30:00  11:05:00   Pedicure        35       Bob\n",
       "3   Wednesday   11:50:00  12:15:00   Manicure        25       Bob\n",
       "15  Wednesday   13:30:00  14:05:00   Pedicure        35     Alice\n",
       "17  Wednesday   14:20:00  14:45:00   Manicure        25     Alice"
      ]
     },
     "execution_count": 1,
     "metadata": {},
     "output_type": "execute_result"
    }
   ],
   "source": [
    "import pandas as pd\n",
    "import datetime\n",
    "data = pd.DataFrame([{'day': 'Friday', 'start_time': datetime.time(9, 50), 'end_time': datetime.time(10, 15), 'service_id': 'Manicure', 'duration': 25, 'client_id': 'Alice'}, {'day': 'Tuesday', 'start_time': datetime.time(13, 0), 'end_time': datetime.time(13, 25), 'service_id': 'Manicure', 'duration': 25, 'client_id': 'Bob'}, {'day': 'Monday', 'start_time': datetime.time(11, 0), 'end_time': datetime.time(11, 35), 'service_id': 'Pedicure', 'duration': 35, 'client_id': 'Bob'}, {'day': 'Wednesday', 'start_time': datetime.time(11, 50), 'end_time': datetime.time(12, 15), 'service_id': 'Manicure', 'duration': 25, 'client_id': 'Bob'}, {'day': 'Monday', 'start_time': datetime.time(9, 10), 'end_time': datetime.time(9, 35), 'service_id': 'Manicure', 'duration': 25, 'client_id': 'Bob'}, {'day': 'Thursday', 'start_time': datetime.time(14, 10), 'end_time': datetime.time(14, 35), 'service_id': 'Manicure', 'duration': 25, 'client_id': 'Alice'}, {'day': 'Friday', 'start_time': datetime.time(11, 20), 'end_time': datetime.time(11, 55), 'service_id': 'Pedicure', 'duration': 35, 'client_id': 'Alice'}, {'day': 'Monday', 'start_time': datetime.time(9, 50), 'end_time': datetime.time(10, 25), 'service_id': 'Pedicure', 'duration': 35, 'client_id': 'Alice'}, {'day': 'Wednesday', 'start_time': datetime.time(10, 30), 'end_time': datetime.time(11, 5), 'service_id': 'Pedicure', 'duration': 35, 'client_id': 'Bob'}, {'day': 'Thursday', 'start_time': datetime.time(10, 10), 'end_time': datetime.time(10, 45), 'service_id': 'Pedicure', 'duration': 35, 'client_id': 'Alice'}, {'day': 'Thursday', 'start_time': datetime.time(9, 10), 'end_time': datetime.time(9, 35), 'service_id': 'Manicure', 'duration': 25, 'client_id': 'Bob'}, {'day': 'Tuesday', 'start_time': datetime.time(11, 50), 'end_time': datetime.time(12, 25), 'service_id': 'Pedicure', 'duration': 35, 'client_id': 'Alice'}, {'day': 'Tuesday', 'start_time': datetime.time(14, 0), 'end_time': datetime.time(14, 35), 'service_id': 'Pedicure', 'duration': 35, 'client_id': 'Bob'}, {'day': 'Thursday', 'start_time': datetime.time(12, 0), 'end_time': datetime.time(12, 35), 'service_id': 'Pedicure', 'duration': 35, 'client_id': 'Bob'}, {'day': 'Monday', 'start_time': datetime.time(13, 50), 'end_time': datetime.time(14, 15), 'service_id': 'Manicure', 'duration': 25, 'client_id': 'Alice'}, {'day': 'Wednesday', 'start_time': datetime.time(13, 30), 'end_time': datetime.time(14, 5), 'service_id': 'Pedicure', 'duration': 35, 'client_id': 'Alice'}, {'day': 'Friday', 'start_time': datetime.time(12, 20), 'end_time': datetime.time(12, 45), 'service_id': 'Manicure', 'duration': 25, 'client_id': 'Bob'}, {'day': 'Wednesday', 'start_time': datetime.time(14, 20), 'end_time': datetime.time(14, 45), 'service_id': 'Manicure', 'duration': 25, 'client_id': 'Alice'}, {'day': 'Friday', 'start_time': datetime.time(14, 30), 'end_time': datetime.time(15, 5), 'service_id': 'Pedicure', 'duration': 35, 'client_id': 'Bob'}, {'day': 'Tuesday', 'start_time': datetime.time(9, 30), 'end_time': datetime.time(9, 55), 'service_id': 'Manicure', 'duration': 25, 'client_id': 'Alice'}])\n",
    "data.sort_values(['day','start_time'])"
   ]
  }
 ],
 "metadata": {
  "kernelspec": {
   "display_name": "Python 3",
   "language": "python",
   "name": "python3"
  },
  "language_info": {
   "codemirror_mode": {
    "name": "ipython",
    "version": 3
   },
   "file_extension": ".py",
   "mimetype": "text/x-python",
   "name": "python",
   "nbconvert_exporter": "python",
   "pygments_lexer": "ipython3",
   "version": "3.11.6"
  }
 },
 "nbformat": 4,
 "nbformat_minor": 2
}
